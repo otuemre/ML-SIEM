{
 "cells": [
  {
   "cell_type": "markdown",
   "id": "da4bdb66-c8ca-47fa-832a-3df7ef7ca3a3",
   "metadata": {},
   "source": [
    "# Preprocessing\n",
    "\n",
    "In this section, we will prepare the dataset for anomaly detection using neural networks in TensorFlow. Since we’re planning to use AutoEncoders and other deep learning models, we will avoid one-hot encoding to reduce dimensionality and instead apply label encoding for categorical features.\n",
    "\n",
    "Here's a summary of the preprocessing steps:\n",
    "- **Country Code**: With over 229 unique values, we will apply **label encoding** to represent countries numerically. One-hot encoding would significantly increase the feature space, which is not optimal for neural networks.\n",
    "- **Device Type**: This has a limited number of categories and will also be **label encoded**.\n",
    "- **Boolean Features** (`is_login_success`, `is_attack_ip`, `is_account_takeover`): These will be converted to integers — `False` as `0` and `True` as `1`.\n",
    "- **Browser Name** and **Operating System Name**: These categorical features will be **label encoded** as well. One-hot encoding is unnecessary here, given our modeling choice.\n",
    "\n",
    "This encoding strategy is compact and well-suited for TensorFlow models, ensuring that our AutoEncoder and any other anomaly detection algorithms can efficiently process the input features."
   ]
  },
  {
   "cell_type": "code",
   "execution_count": 1,
   "id": "860738e3-6c51-44c2-a43a-3fd2a62866ca",
   "metadata": {},
   "outputs": [],
   "source": [
    "# General purpose\n",
    "import numpy as np\n",
    "import pandas as pd\n",
    "\n",
    "# Dask for handling large datasets / Preparation\n",
    "import dask.dataframe as dd\n",
    "from sklearn.utils import shuffle\n",
    "\n",
    "# Encoding\n",
    "from sklearn.preprocessing import LabelEncoder\n",
    "\n",
    "# Scaling\n",
    "from sklearn.preprocessing import MinMaxScaler\n",
    "\n",
    "# TensorFlow for model building\n",
    "import tensorflow as tf\n",
    "from tensorflow.keras.models import Model\n",
    "from tensorflow.keras.layers import Input, Dense, BatchNormalization, Dropout\n",
    "from tensorflow.keras import regularizers\n",
    "from tensorflow.keras.callbacks import EarlyStopping, ReduceLROnPlateau\n",
    "\n",
    "# Evaluation\n",
    "from sklearn.metrics import classification_report, confusion_matrix\n",
    "\n",
    "# Visualization\n",
    "import matplotlib.pyplot as plt\n",
    "import seaborn as sns\n",
    "\n",
    "# System and warnings\n",
    "import os\n",
    "import warnings\n",
    "warnings.filterwarnings('ignore')\n",
    "\n",
    "# Time\n",
    "import time"
   ]
  },
  {
   "cell_type": "code",
   "execution_count": 2,
   "id": "081cfd9b-0d91-419e-a35c-147d77a6cf47",
   "metadata": {},
   "outputs": [],
   "source": [
    "# Step 1: Load partitioned CSVs\n",
    "df = dd.read_csv('../data/processed/*.part')\n",
    "\n",
    "# Step 2: Drop index early\n",
    "df = df.reset_index(drop=True)\n",
    "\n",
    "# Step 3: Optional — check for duplicate column names (only if you're unsure)\n",
    "assert df.columns.duplicated().sum() == 0, \"You have duplicate column names!\"\n",
    "\n",
    "# Step 4: Compute it into memory\n",
    "df = df.compute()"
   ]
  },
  {
   "cell_type": "code",
   "execution_count": 3,
   "id": "7312efdd-b260-46e7-b468-3e7ad2011868",
   "metadata": {},
   "outputs": [
    {
     "data": {
      "text/plain": [
       "user_id                          int64\n",
       "country_code           string[pyarrow]\n",
       "asn                              int64\n",
       "device_type            string[pyarrow]\n",
       "is_login_success                  bool\n",
       "is_attack_ip                      bool\n",
       "is_account_takeover               bool\n",
       "login_hours                      int64\n",
       "login_day                        int64\n",
       "browser_name           string[pyarrow]\n",
       "os_name                string[pyarrow]\n",
       "dtype: object"
      ]
     },
     "execution_count": 3,
     "metadata": {},
     "output_type": "execute_result"
    }
   ],
   "source": [
    "df.dtypes"
   ]
  },
  {
   "cell_type": "markdown",
   "id": "c435ceff-09d0-4998-8fdc-71643703c4f8",
   "metadata": {},
   "source": [
    "**Encoding the Columns**:"
   ]
  },
  {
   "cell_type": "code",
   "execution_count": 4,
   "id": "ca87a29d-901f-4137-8369-a80573157d52",
   "metadata": {},
   "outputs": [],
   "source": [
    "# Columns to encode\n",
    "cols_to_encode = ['country_code', 'device_type', 'browser_name', 'os_name']\n",
    "\n",
    "# Store encoders\n",
    "encoders = {}\n",
    "\n",
    "# Encode each columns\n",
    "for col in cols_to_encode:\n",
    "    le = LabelEncoder()\n",
    "    df[col] = df[col] = le.fit_transform(df[col].astype(str))\n",
    "    encoders[col] = le \n",
    "\n",
    "# Boolean columns\n",
    "bool_cols = ['is_login_success', 'is_attack_ip', 'is_account_takeover']\n",
    "for col in bool_cols:\n",
    "    df[col] = df[col].astype(int)"
   ]
  },
  {
   "cell_type": "code",
   "execution_count": 5,
   "id": "86f035f4-ac9c-4b92-b376-0c577c49d65e",
   "metadata": {},
   "outputs": [
    {
     "data": {
      "text/plain": [
       "user_id                int64\n",
       "country_code           int32\n",
       "asn                    int64\n",
       "device_type            int32\n",
       "is_login_success       int32\n",
       "is_attack_ip           int32\n",
       "is_account_takeover    int32\n",
       "login_hours            int64\n",
       "login_day              int64\n",
       "browser_name           int32\n",
       "os_name                int32\n",
       "dtype: object"
      ]
     },
     "execution_count": 5,
     "metadata": {},
     "output_type": "execute_result"
    }
   ],
   "source": [
    "# Verify Encoding\n",
    "df.dtypes"
   ]
  },
  {
   "cell_type": "code",
   "execution_count": 6,
   "id": "de9e30c3-25f7-4ca8-bce1-09128130e9b8",
   "metadata": {},
   "outputs": [
    {
     "data": {
      "text/html": [
       "<div>\n",
       "<style scoped>\n",
       "    .dataframe tbody tr th:only-of-type {\n",
       "        vertical-align: middle;\n",
       "    }\n",
       "\n",
       "    .dataframe tbody tr th {\n",
       "        vertical-align: top;\n",
       "    }\n",
       "\n",
       "    .dataframe thead th {\n",
       "        text-align: right;\n",
       "    }\n",
       "</style>\n",
       "<table border=\"1\" class=\"dataframe\">\n",
       "  <thead>\n",
       "    <tr style=\"text-align: right;\">\n",
       "      <th></th>\n",
       "      <th>user_id</th>\n",
       "      <th>country_code</th>\n",
       "      <th>asn</th>\n",
       "      <th>device_type</th>\n",
       "      <th>is_login_success</th>\n",
       "      <th>is_attack_ip</th>\n",
       "      <th>is_account_takeover</th>\n",
       "      <th>login_hours</th>\n",
       "      <th>login_day</th>\n",
       "      <th>browser_name</th>\n",
       "      <th>os_name</th>\n",
       "    </tr>\n",
       "  </thead>\n",
       "  <tbody>\n",
       "    <tr>\n",
       "      <th>0</th>\n",
       "      <td>-4324475583306591935</td>\n",
       "      <td>153</td>\n",
       "      <td>29695</td>\n",
       "      <td>2</td>\n",
       "      <td>0</td>\n",
       "      <td>0</td>\n",
       "      <td>0</td>\n",
       "      <td>12</td>\n",
       "      <td>0</td>\n",
       "      <td>46</td>\n",
       "      <td>43</td>\n",
       "    </tr>\n",
       "    <tr>\n",
       "      <th>1</th>\n",
       "      <td>-4324475583306591935</td>\n",
       "      <td>11</td>\n",
       "      <td>60117</td>\n",
       "      <td>2</td>\n",
       "      <td>0</td>\n",
       "      <td>0</td>\n",
       "      <td>0</td>\n",
       "      <td>12</td>\n",
       "      <td>0</td>\n",
       "      <td>24</td>\n",
       "      <td>0</td>\n",
       "    </tr>\n",
       "    <tr>\n",
       "      <th>2</th>\n",
       "      <td>-3284137479262433373</td>\n",
       "      <td>153</td>\n",
       "      <td>29695</td>\n",
       "      <td>2</td>\n",
       "      <td>1</td>\n",
       "      <td>0</td>\n",
       "      <td>0</td>\n",
       "      <td>12</td>\n",
       "      <td>0</td>\n",
       "      <td>5</td>\n",
       "      <td>43</td>\n",
       "    </tr>\n",
       "    <tr>\n",
       "      <th>3</th>\n",
       "      <td>-4324475583306591935</td>\n",
       "      <td>211</td>\n",
       "      <td>393398</td>\n",
       "      <td>2</td>\n",
       "      <td>0</td>\n",
       "      <td>0</td>\n",
       "      <td>0</td>\n",
       "      <td>12</td>\n",
       "      <td>0</td>\n",
       "      <td>25</td>\n",
       "      <td>0</td>\n",
       "    </tr>\n",
       "    <tr>\n",
       "      <th>4</th>\n",
       "      <td>-4618854071942621186</td>\n",
       "      <td>211</td>\n",
       "      <td>398986</td>\n",
       "      <td>2</td>\n",
       "      <td>0</td>\n",
       "      <td>1</td>\n",
       "      <td>0</td>\n",
       "      <td>12</td>\n",
       "      <td>0</td>\n",
       "      <td>25</td>\n",
       "      <td>0</td>\n",
       "    </tr>\n",
       "  </tbody>\n",
       "</table>\n",
       "</div>"
      ],
      "text/plain": [
       "               user_id  country_code     asn  device_type  is_login_success  \\\n",
       "0 -4324475583306591935           153   29695            2                 0   \n",
       "1 -4324475583306591935            11   60117            2                 0   \n",
       "2 -3284137479262433373           153   29695            2                 1   \n",
       "3 -4324475583306591935           211  393398            2                 0   \n",
       "4 -4618854071942621186           211  398986            2                 0   \n",
       "\n",
       "   is_attack_ip  is_account_takeover  login_hours  login_day  browser_name  \\\n",
       "0             0                    0           12          0            46   \n",
       "1             0                    0           12          0            24   \n",
       "2             0                    0           12          0             5   \n",
       "3             0                    0           12          0            25   \n",
       "4             1                    0           12          0            25   \n",
       "\n",
       "   os_name  \n",
       "0       43  \n",
       "1        0  \n",
       "2       43  \n",
       "3        0  \n",
       "4        0  "
      ]
     },
     "execution_count": 6,
     "metadata": {},
     "output_type": "execute_result"
    }
   ],
   "source": [
    "df.head()"
   ]
  },
  {
   "cell_type": "markdown",
   "id": "2a6c13f5-4155-41fd-95eb-f66fa9c65489",
   "metadata": {},
   "source": [
    "**Scale the Columns with `MinMaxScaler`**:"
   ]
  },
  {
   "cell_type": "code",
   "execution_count": 7,
   "id": "fdcb978a-10e4-4b26-9b6f-e7466d5dc50f",
   "metadata": {},
   "outputs": [],
   "source": [
    "# Columns to scale\n",
    "cols_to_scale = [\n",
    "    'country_code', 'device_type',\n",
    "    'is_login_success', 'is_attack_ip',\n",
    "    'login_hours', 'login_day',\n",
    "    'browser_name', 'os_name'\n",
    "]\n",
    "\n",
    "# Initialize scaler\n",
    "scaler = MinMaxScaler()\n",
    "\n",
    "# Fit and transform\n",
    "df[cols_to_scale] = scaler.fit_transform(df[cols_to_scale])"
   ]
  },
  {
   "cell_type": "code",
   "execution_count": 8,
   "id": "3c055559-ccf2-4ce0-bf6d-be19ca975d91",
   "metadata": {},
   "outputs": [
    {
     "data": {
      "text/html": [
       "<div>\n",
       "<style scoped>\n",
       "    .dataframe tbody tr th:only-of-type {\n",
       "        vertical-align: middle;\n",
       "    }\n",
       "\n",
       "    .dataframe tbody tr th {\n",
       "        vertical-align: top;\n",
       "    }\n",
       "\n",
       "    .dataframe thead th {\n",
       "        text-align: right;\n",
       "    }\n",
       "</style>\n",
       "<table border=\"1\" class=\"dataframe\">\n",
       "  <thead>\n",
       "    <tr style=\"text-align: right;\">\n",
       "      <th></th>\n",
       "      <th>user_id</th>\n",
       "      <th>country_code</th>\n",
       "      <th>asn</th>\n",
       "      <th>device_type</th>\n",
       "      <th>is_login_success</th>\n",
       "      <th>is_attack_ip</th>\n",
       "      <th>is_account_takeover</th>\n",
       "      <th>login_hours</th>\n",
       "      <th>login_day</th>\n",
       "      <th>browser_name</th>\n",
       "      <th>os_name</th>\n",
       "    </tr>\n",
       "  </thead>\n",
       "  <tbody>\n",
       "    <tr>\n",
       "      <th>0</th>\n",
       "      <td>-4324475583306591935</td>\n",
       "      <td>0.671053</td>\n",
       "      <td>29695</td>\n",
       "      <td>0.5</td>\n",
       "      <td>0.0</td>\n",
       "      <td>0.0</td>\n",
       "      <td>0</td>\n",
       "      <td>0.521739</td>\n",
       "      <td>0.0</td>\n",
       "      <td>0.237113</td>\n",
       "      <td>0.977273</td>\n",
       "    </tr>\n",
       "    <tr>\n",
       "      <th>1</th>\n",
       "      <td>-4324475583306591935</td>\n",
       "      <td>0.048246</td>\n",
       "      <td>60117</td>\n",
       "      <td>0.5</td>\n",
       "      <td>0.0</td>\n",
       "      <td>0.0</td>\n",
       "      <td>0</td>\n",
       "      <td>0.521739</td>\n",
       "      <td>0.0</td>\n",
       "      <td>0.123711</td>\n",
       "      <td>0.000000</td>\n",
       "    </tr>\n",
       "    <tr>\n",
       "      <th>2</th>\n",
       "      <td>-3284137479262433373</td>\n",
       "      <td>0.671053</td>\n",
       "      <td>29695</td>\n",
       "      <td>0.5</td>\n",
       "      <td>1.0</td>\n",
       "      <td>0.0</td>\n",
       "      <td>0</td>\n",
       "      <td>0.521739</td>\n",
       "      <td>0.0</td>\n",
       "      <td>0.025773</td>\n",
       "      <td>0.977273</td>\n",
       "    </tr>\n",
       "    <tr>\n",
       "      <th>3</th>\n",
       "      <td>-4324475583306591935</td>\n",
       "      <td>0.925439</td>\n",
       "      <td>393398</td>\n",
       "      <td>0.5</td>\n",
       "      <td>0.0</td>\n",
       "      <td>0.0</td>\n",
       "      <td>0</td>\n",
       "      <td>0.521739</td>\n",
       "      <td>0.0</td>\n",
       "      <td>0.128866</td>\n",
       "      <td>0.000000</td>\n",
       "    </tr>\n",
       "    <tr>\n",
       "      <th>4</th>\n",
       "      <td>-4618854071942621186</td>\n",
       "      <td>0.925439</td>\n",
       "      <td>398986</td>\n",
       "      <td>0.5</td>\n",
       "      <td>0.0</td>\n",
       "      <td>1.0</td>\n",
       "      <td>0</td>\n",
       "      <td>0.521739</td>\n",
       "      <td>0.0</td>\n",
       "      <td>0.128866</td>\n",
       "      <td>0.000000</td>\n",
       "    </tr>\n",
       "  </tbody>\n",
       "</table>\n",
       "</div>"
      ],
      "text/plain": [
       "               user_id  country_code     asn  device_type  is_login_success  \\\n",
       "0 -4324475583306591935      0.671053   29695          0.5               0.0   \n",
       "1 -4324475583306591935      0.048246   60117          0.5               0.0   \n",
       "2 -3284137479262433373      0.671053   29695          0.5               1.0   \n",
       "3 -4324475583306591935      0.925439  393398          0.5               0.0   \n",
       "4 -4618854071942621186      0.925439  398986          0.5               0.0   \n",
       "\n",
       "   is_attack_ip  is_account_takeover  login_hours  login_day  browser_name  \\\n",
       "0           0.0                    0     0.521739        0.0      0.237113   \n",
       "1           0.0                    0     0.521739        0.0      0.123711   \n",
       "2           0.0                    0     0.521739        0.0      0.025773   \n",
       "3           0.0                    0     0.521739        0.0      0.128866   \n",
       "4           1.0                    0     0.521739        0.0      0.128866   \n",
       "\n",
       "    os_name  \n",
       "0  0.977273  \n",
       "1  0.000000  \n",
       "2  0.977273  \n",
       "3  0.000000  \n",
       "4  0.000000  "
      ]
     },
     "execution_count": 8,
     "metadata": {},
     "output_type": "execute_result"
    }
   ],
   "source": [
    "df.head()"
   ]
  },
  {
   "cell_type": "code",
   "execution_count": 9,
   "id": "1e11067b-812e-4b13-bd31-b79e2a53df94",
   "metadata": {},
   "outputs": [
    {
     "data": {
      "text/plain": [
       "user_id                  int64\n",
       "country_code           float64\n",
       "asn                      int64\n",
       "device_type            float64\n",
       "is_login_success       float64\n",
       "is_attack_ip           float64\n",
       "is_account_takeover      int32\n",
       "login_hours            float64\n",
       "login_day              float64\n",
       "browser_name           float64\n",
       "os_name                float64\n",
       "dtype: object"
      ]
     },
     "execution_count": 9,
     "metadata": {},
     "output_type": "execute_result"
    }
   ],
   "source": [
    "df.dtypes"
   ]
  },
  {
   "cell_type": "markdown",
   "id": "ed11dfe2-48fe-429d-b5fb-fcdf506830ec",
   "metadata": {},
   "source": [
    "**Type Casting**:"
   ]
  },
  {
   "cell_type": "code",
   "execution_count": 10,
   "id": "35edbbf3-0bcf-40ca-a9b2-7626dd59044d",
   "metadata": {},
   "outputs": [
    {
     "name": "stdout",
     "output_type": "stream",
     "text": [
      "country_code: min = 0.0, max = 1.0\n",
      "device_type: min = 0.0, max = 1.0\n",
      "login_hours: min = 0.0, max = 1.0\n",
      "login_day: min = 0.0, max = 1.0\n",
      "browser_name: min = 0.0, max = 1.0\n",
      "os_name: min = 0.0, max = 1.0\n",
      "user_id: min = -9223371191532286299, max = 9223358976525004362\n",
      "asn: min = 12, max = 507727\n"
     ]
    }
   ],
   "source": [
    "columns_to_check = ['country_code', 'device_type', 'login_hours', 'login_day', 'browser_name', 'os_name', 'user_id', 'asn']\n",
    "\n",
    "for col in columns_to_check:\n",
    "    min_val = df[col].min()\n",
    "    max_val = df[col].max()\n",
    "    print(f\"{col}: min = {min_val}, max = {max_val}\")"
   ]
  },
  {
   "cell_type": "code",
   "execution_count": 11,
   "id": "47fa852f-60a8-474e-b1a9-8abfbf71be9a",
   "metadata": {},
   "outputs": [],
   "source": [
    "# Type casting for memory efficiency\n",
    "df['country_code'] = df['country_code'].astype(np.float32)\n",
    "df['device_type'] = df['device_type'].astype(np.float32)\n",
    "df['is_login_success'] = df['is_login_success'].astype(np.float32)\n",
    "df['is_attack_ip'] = df['is_attack_ip'].astype(np.float32)\n",
    "df['login_hours'] = df['login_hours'].astype(np.float32)\n",
    "df['login_day'] = df['login_day'].astype(np.float32)\n",
    "df['browser_name'] = df['browser_name'].astype(np.float32)\n",
    "df['os_name'] = df['os_name'].astype(np.float32)\n",
    "\n",
    "# Cast other relevant columns\n",
    "df['asn'] = df['asn'].astype(np.uint32)\n",
    "df['is_account_takeover'] = df['is_account_takeover'].astype(np.uint8)"
   ]
  },
  {
   "cell_type": "code",
   "execution_count": 12,
   "id": "e1dc94f4-4f45-4af2-ad2b-a20f26e58099",
   "metadata": {},
   "outputs": [
    {
     "data": {
      "text/plain": [
       "user_id                  int64\n",
       "country_code           float32\n",
       "asn                     uint32\n",
       "device_type            float32\n",
       "is_login_success       float32\n",
       "is_attack_ip           float32\n",
       "is_account_takeover      uint8\n",
       "login_hours            float32\n",
       "login_day              float32\n",
       "browser_name           float32\n",
       "os_name                float32\n",
       "dtype: object"
      ]
     },
     "execution_count": 12,
     "metadata": {},
     "output_type": "execute_result"
    }
   ],
   "source": [
    "# Verify\n",
    "df.dtypes"
   ]
  },
  {
   "cell_type": "markdown",
   "id": "e67e3a0a-1829-40ee-b9b9-cc9bd5ef383b",
   "metadata": {},
   "source": [
    "**Save Data Frame for the Future**:"
   ]
  },
  {
   "cell_type": "code",
   "execution_count": 13,
   "id": "a3e0077d-94fb-4624-b252-f0a12ecd3b79",
   "metadata": {},
   "outputs": [],
   "source": [
    "df.to_parquet('../data/scaled/scaled_data.parquet', index=False)"
   ]
  },
  {
   "cell_type": "markdown",
   "id": "7ab0718f-b565-4c79-897d-e12ca6f63423",
   "metadata": {},
   "source": [
    "# Model Training\n",
    "\n",
    "In this section, we focus on building and training an `AutoEncoder` and `Variational AutoEncoders (VAEs)` model using TensorFlow to detect anomalies in login behavior. Since these are unsupervised learning problems, the models are trained only on legitimate login attempts to learn normal patterns. Once trained, they will be able to identify unusual activities—such as account takeovers—by measuring reconstruction error. We will split the dataset, define and compile the neural network architecture, and evaluate its performance using appropriate metrics. As we are not using scikit-learn, all modeling steps will be done exclusively with TensorFlow and its ecosystem."
   ]
  },
  {
   "cell_type": "markdown",
   "id": "ff3d7688-3771-4ed3-9baf-c8fc42501669",
   "metadata": {},
   "source": [
    "**Prepare the Data for Training**:"
   ]
  },
  {
   "cell_type": "code",
   "execution_count": 14,
   "id": "0d9f913b-a976-46eb-8774-a265d3112f4d",
   "metadata": {},
   "outputs": [],
   "source": [
    "# Load the Dataset\n",
    "df = dd.read_parquet('../data/scaled/')\n",
    "\n",
    "# Normal Data and Anomalous Data\n",
    "normal_data = df[df['is_account_takeover'] == 0]\n",
    "anomalous_data = df[df['is_account_takeover'] == 1]\n",
    "\n",
    "# Test and Train Data\n",
    "train_data = normal_data.sample(frac=0.8, random_state=42)\n",
    "remaining_normal = dd.concat([normal_data, train_data]).drop_duplicates()\n",
    "test_data = dd.concat([remaining_normal, anomalous_data])\n",
    "\n",
    "# Compute\n",
    "train_data = train_data.compute()\n",
    "test_data = test_data.compute()\n",
    "\n",
    "# Train and Test Split\n",
    "X_train = train_data.drop(columns=['is_account_takeover', 'user_id', 'asn'])\n",
    "X_test = test_data.drop(columns=['is_account_takeover', 'user_id', 'asn'])\n",
    "y_test = test_data['is_account_takeover'].values"
   ]
  },
  {
   "cell_type": "code",
   "execution_count": 15,
   "id": "769b7e3e-cc4d-4cec-9c7c-a2bdae4747f1",
   "metadata": {},
   "outputs": [
    {
     "name": "stdout",
     "output_type": "stream",
     "text": [
      "Any NaNs? country_code        False\n",
      "device_type         False\n",
      "is_login_success    False\n",
      "is_attack_ip        False\n",
      "login_hours         False\n",
      "login_day           False\n",
      "browser_name        False\n",
      "os_name             False\n",
      "dtype: bool\n",
      "Any Infs? country_code        False\n",
      "device_type         False\n",
      "is_login_success    False\n",
      "is_attack_ip        False\n",
      "login_hours         False\n",
      "login_day           False\n",
      "browser_name        False\n",
      "os_name             False\n",
      "dtype: bool\n",
      "Max value per column:\n",
      " country_code        1.0\n",
      "device_type         1.0\n",
      "is_login_success    1.0\n",
      "is_attack_ip        1.0\n",
      "login_hours         1.0\n",
      "login_day           1.0\n",
      "browser_name        1.0\n",
      "os_name             1.0\n",
      "dtype: float32\n",
      "Min value per column:\n",
      " country_code        0.0\n",
      "device_type         0.0\n",
      "is_login_success    0.0\n",
      "is_attack_ip        0.0\n",
      "login_hours         0.0\n",
      "login_day           0.0\n",
      "browser_name        0.0\n",
      "os_name             0.0\n",
      "dtype: float32\n"
     ]
    }
   ],
   "source": [
    "# Check for NaNs or Infs in training data\n",
    "print(\"Any NaNs?\", np.isnan(X_train).any())\n",
    "print(\"Any Infs?\", np.isinf(X_train).any())\n",
    "\n",
    "# Also check the ranges\n",
    "print(\"Max value per column:\\n\", X_train.max())\n",
    "print(\"Min value per column:\\n\", X_train.min())"
   ]
  },
  {
   "cell_type": "code",
   "execution_count": 16,
   "id": "64cc3274-6c79-4ce7-b697-cd2c4f7e1386",
   "metadata": {},
   "outputs": [
    {
     "name": "stdout",
     "output_type": "stream",
     "text": [
      "Dropped 24598798 duplicates (98.34%)\n"
     ]
    }
   ],
   "source": [
    "# Drop Duplicates\n",
    "original_len = len(X_train)\n",
    "X_train = X_train.drop_duplicates()\n",
    "new_len = len(X_train)\n",
    "\n",
    "print(f\"Dropped {original_len - new_len} duplicates ({(original_len - new_len)/original_len:.2%})\")"
   ]
  },
  {
   "cell_type": "markdown",
   "id": "a1d48933-82ae-416c-b2b9-8d68d58364e7",
   "metadata": {},
   "source": [
    "## AutoEncoder"
   ]
  },
  {
   "cell_type": "code",
   "execution_count": 17,
   "id": "ad5db609-5ee1-4184-a796-949390e13f68",
   "metadata": {},
   "outputs": [
    {
     "name": "stdout",
     "output_type": "stream",
     "text": [
      "Model: \"model\"\n",
      "_________________________________________________________________\n",
      " Layer (type)                Output Shape              Param #   \n",
      "=================================================================\n",
      " input_1 (InputLayer)        [(None, 8)]               0         \n",
      "                                                                 \n",
      " dense (Dense)               (None, 128)               1152      \n",
      "                                                                 \n",
      " batch_normalization (BatchN  (None, 128)              512       \n",
      " ormalization)                                                   \n",
      "                                                                 \n",
      " dense_1 (Dense)             (None, 64)                8256      \n",
      "                                                                 \n",
      " batch_normalization_1 (Batc  (None, 64)               256       \n",
      " hNormalization)                                                 \n",
      "                                                                 \n",
      " dense_2 (Dense)             (None, 32)                2080      \n",
      "                                                                 \n",
      " dense_3 (Dense)             (None, 16)                528       \n",
      "                                                                 \n",
      " dense_6 (Dense)             (None, 128)               2176      \n",
      "                                                                 \n",
      " dense_7 (Dense)             (None, 8)                 1032      \n",
      "                                                                 \n",
      "=================================================================\n",
      "Total params: 15,992\n",
      "Trainable params: 15,608\n",
      "Non-trainable params: 384\n",
      "_________________________________________________________________\n"
     ]
    }
   ],
   "source": [
    "# Get input shape\n",
    "input_dim = X_train.shape[1]\n",
    "\n",
    "# Define Input\n",
    "input_layer = Input(shape=(input_dim,))\n",
    "\n",
    "# Encoder\n",
    "encoded = Dense(128, activation='relu')(input_layer)\n",
    "encoded = BatchNormalization()(encoded)\n",
    "encoded = Dense(64, activation='relu')(encoded)\n",
    "encoded = BatchNormalization()(encoded)\n",
    "encoded = Dense(32, activation='relu')(encoded)\n",
    "encoded = Dense(16, activation='relu')(encoded)\n",
    "\n",
    "# Decoder\n",
    "decoded = Dense(32, activation='relu')(encoded)\n",
    "decoded = Dense(64, activation='relu')(encoded)\n",
    "decoded = Dense(128, activation='relu')(encoded)\n",
    "output_layer = Dense(input_dim, activation='sigmoid')(decoded)\n",
    "\n",
    "# Build Model\n",
    "autoencoder = Model(inputs=input_layer, outputs=output_layer)\n",
    "autoencoder.compile(optimizer='adam', loss='mse')\n",
    "\n",
    "# Model Summary\n",
    "autoencoder.summary()"
   ]
  },
  {
   "cell_type": "code",
   "execution_count": 18,
   "id": "c61665c4-ce0a-43b0-8fbe-4eafe404bf47",
   "metadata": {},
   "outputs": [],
   "source": [
    "# Callbacks\n",
    "early_stop = EarlyStopping(monitor='val_loss', patience=8, restore_best_weights=True) # EarlyStop\n",
    "lr_scheduler = ReduceLROnPlateau(monitor='val_loss', factor=0.5, patience=4)"
   ]
  },
  {
   "cell_type": "code",
   "execution_count": 19,
   "id": "86b4e186-1f6b-427a-9ad8-d33ff252a9f5",
   "metadata": {},
   "outputs": [],
   "source": [
    "# While Trying the Model\n",
    "X_small = X_train[:500_000] # Only for testing!"
   ]
  },
  {
   "cell_type": "code",
   "execution_count": 20,
   "id": "53073b1b-afbd-4513-b133-dde4d0fe13cb",
   "metadata": {},
   "outputs": [
    {
     "name": "stdout",
     "output_type": "stream",
     "text": [
      "Epoch 1/100\n",
      "11680/11680 [==============================] - 42s 4ms/step - loss: 0.0026 - val_loss: 7.1668e-04 - lr: 0.0010\n",
      "Epoch 2/100\n",
      "11680/11680 [==============================] - 41s 4ms/step - loss: 9.2132e-04 - val_loss: 2.5718e-04 - lr: 0.0010\n",
      "Epoch 3/100\n",
      "11680/11680 [==============================] - 42s 4ms/step - loss: 4.9939e-04 - val_loss: 1.9681e-04 - lr: 0.0010\n",
      "Epoch 4/100\n",
      "11680/11680 [==============================] - 42s 4ms/step - loss: 3.3992e-04 - val_loss: 1.2182e-04 - lr: 0.0010\n",
      "Epoch 5/100\n",
      "11680/11680 [==============================] - 41s 3ms/step - loss: 2.6543e-04 - val_loss: 1.1069e-04 - lr: 0.0010\n",
      "Epoch 6/100\n",
      "11680/11680 [==============================] - 41s 4ms/step - loss: 2.0853e-04 - val_loss: 1.0668e-04 - lr: 0.0010\n",
      "Epoch 7/100\n",
      "11680/11680 [==============================] - 41s 4ms/step - loss: 1.6766e-04 - val_loss: 7.3284e-05 - lr: 0.0010\n",
      "Epoch 8/100\n",
      "11680/11680 [==============================] - 42s 4ms/step - loss: 1.6883e-04 - val_loss: 6.2329e-05 - lr: 0.0010\n",
      "Epoch 9/100\n",
      "11680/11680 [==============================] - 42s 4ms/step - loss: 9.8924e-05 - val_loss: 4.4223e-05 - lr: 5.0000e-04\n",
      "Epoch 10/100\n",
      "11680/11680 [==============================] - 41s 4ms/step - loss: 9.0203e-05 - val_loss: 3.4258e-05 - lr: 5.0000e-04\n",
      "Epoch 11/100\n",
      "11680/11680 [==============================] - 41s 4ms/step - loss: 8.4383e-05 - val_loss: 5.3512e-05 - lr: 5.0000e-04\n",
      "Epoch 12/100\n",
      "11680/11680 [==============================] - 41s 4ms/step - loss: 7.6673e-05 - val_loss: 6.6124e-05 - lr: 5.0000e-04\n",
      "Epoch 13/100\n",
      "11680/11680 [==============================] - 42s 4ms/step - loss: 5.8119e-05 - val_loss: 3.7714e-05 - lr: 2.5000e-04\n",
      "Epoch 14/100\n",
      "11680/11680 [==============================] - 42s 4ms/step - loss: 5.6399e-05 - val_loss: 2.2576e-05 - lr: 2.5000e-04\n",
      "Epoch 15/100\n",
      "11680/11680 [==============================] - 42s 4ms/step - loss: 5.4263e-05 - val_loss: 1.7554e-05 - lr: 2.5000e-04\n",
      "Epoch 16/100\n",
      "11680/11680 [==============================] - 42s 4ms/step - loss: 5.2985e-05 - val_loss: 1.9879e-05 - lr: 2.5000e-04\n",
      "Epoch 17/100\n",
      "11680/11680 [==============================] - 41s 3ms/step - loss: 5.0810e-05 - val_loss: 1.6185e-05 - lr: 2.5000e-04\n",
      "Epoch 18/100\n",
      "11680/11680 [==============================] - 42s 4ms/step - loss: 4.9798e-05 - val_loss: 3.7396e-05 - lr: 2.5000e-04\n",
      "Epoch 19/100\n",
      "11680/11680 [==============================] - 42s 4ms/step - loss: 4.7245e-05 - val_loss: 1.6243e-05 - lr: 2.5000e-04\n",
      "Epoch 20/100\n",
      "11680/11680 [==============================] - 42s 4ms/step - loss: 4.0200e-05 - val_loss: 1.4069e-05 - lr: 1.2500e-04\n",
      "Epoch 21/100\n",
      "11680/11680 [==============================] - 42s 4ms/step - loss: 3.9441e-05 - val_loss: 1.3018e-05 - lr: 1.2500e-04\n",
      "Epoch 22/100\n",
      "11680/11680 [==============================] - 42s 4ms/step - loss: 3.8547e-05 - val_loss: 1.6124e-05 - lr: 1.2500e-04\n",
      "Epoch 23/100\n",
      "11680/11680 [==============================] - 41s 4ms/step - loss: 3.9037e-05 - val_loss: 1.8879e-05 - lr: 1.2500e-04\n",
      "Epoch 24/100\n",
      "11680/11680 [==============================] - 42s 4ms/step - loss: 3.4615e-05 - val_loss: 1.1473e-05 - lr: 6.2500e-05\n",
      "Epoch 25/100\n",
      "11680/11680 [==============================] - 41s 4ms/step - loss: 3.4186e-05 - val_loss: 1.6763e-05 - lr: 6.2500e-05\n",
      "Epoch 26/100\n",
      "11680/11680 [==============================] - 42s 4ms/step - loss: 3.4171e-05 - val_loss: 1.6527e-05 - lr: 6.2500e-05\n",
      "Epoch 27/100\n",
      "11680/11680 [==============================] - 42s 4ms/step - loss: 3.3292e-05 - val_loss: 1.2334e-05 - lr: 6.2500e-05\n",
      "Epoch 28/100\n",
      "11680/11680 [==============================] - 42s 4ms/step - loss: 3.2155e-05 - val_loss: 1.2858e-05 - lr: 3.1250e-05\n",
      "Epoch 29/100\n",
      "11680/11680 [==============================] - 41s 3ms/step - loss: 3.1483e-05 - val_loss: 1.1068e-05 - lr: 3.1250e-05\n",
      "Epoch 30/100\n",
      "11680/11680 [==============================] - 41s 4ms/step - loss: 3.1338e-05 - val_loss: 1.2174e-05 - lr: 3.1250e-05\n",
      "Epoch 31/100\n",
      "11680/11680 [==============================] - 42s 4ms/step - loss: 3.0635e-05 - val_loss: 1.1266e-05 - lr: 3.1250e-05\n",
      "Epoch 32/100\n",
      "11680/11680 [==============================] - 42s 4ms/step - loss: 3.0801e-05 - val_loss: 1.1097e-05 - lr: 1.5625e-05\n",
      "Epoch 33/100\n",
      "11680/11680 [==============================] - 42s 4ms/step - loss: 3.0568e-05 - val_loss: 1.0490e-05 - lr: 1.5625e-05\n",
      "Epoch 34/100\n",
      "11680/11680 [==============================] - 42s 4ms/step - loss: 2.9904e-05 - val_loss: 1.0220e-05 - lr: 1.5625e-05\n",
      "Epoch 35/100\n",
      "11680/11680 [==============================] - 41s 4ms/step - loss: 2.9908e-05 - val_loss: 1.0203e-05 - lr: 1.5625e-05\n",
      "Epoch 36/100\n",
      "11680/11680 [==============================] - 42s 4ms/step - loss: 2.9829e-05 - val_loss: 1.0383e-05 - lr: 7.8125e-06\n",
      "Epoch 37/100\n",
      "11680/11680 [==============================] - 42s 4ms/step - loss: 3.0074e-05 - val_loss: 1.0094e-05 - lr: 7.8125e-06\n",
      "Epoch 38/100\n",
      "11680/11680 [==============================] - 42s 4ms/step - loss: 2.9489e-05 - val_loss: 9.3016e-06 - lr: 7.8125e-06\n",
      "Epoch 39/100\n",
      "11680/11680 [==============================] - 42s 4ms/step - loss: 2.9672e-05 - val_loss: 1.0334e-05 - lr: 7.8125e-06\n",
      "Epoch 40/100\n",
      "11680/11680 [==============================] - 41s 4ms/step - loss: 2.9420e-05 - val_loss: 9.4952e-06 - lr: 3.9063e-06\n",
      "Epoch 41/100\n",
      "11680/11680 [==============================] - 41s 4ms/step - loss: 2.9770e-05 - val_loss: 1.0240e-05 - lr: 3.9063e-06\n",
      "Epoch 42/100\n",
      "11680/11680 [==============================] - 42s 4ms/step - loss: 2.9271e-05 - val_loss: 1.0164e-05 - lr: 3.9063e-06\n",
      "Epoch 43/100\n",
      "11680/11680 [==============================] - 43s 4ms/step - loss: 2.8600e-05 - val_loss: 1.0203e-05 - lr: 3.9063e-06\n",
      "Epoch 44/100\n",
      "11680/11680 [==============================] - 42s 4ms/step - loss: 2.9236e-05 - val_loss: 1.0035e-05 - lr: 1.9531e-06\n",
      "Epoch 45/100\n",
      "11680/11680 [==============================] - 42s 4ms/step - loss: 2.9265e-05 - val_loss: 1.0243e-05 - lr: 1.9531e-06\n",
      "Epoch 46/100\n",
      "11680/11680 [==============================] - 42s 4ms/step - loss: 2.9065e-05 - val_loss: 1.0041e-05 - lr: 1.9531e-06\n",
      "CPU times: total: 40min 21s\n",
      "Wall time: 32min\n"
     ]
    }
   ],
   "source": [
    "%%time\n",
    "\n",
    "# Train the model\n",
    "history = autoencoder.fit(\n",
    "    X_train, X_train,\n",
    "    epochs=100,\n",
    "    batch_size=32,\n",
    "    validation_split=0.1,\n",
    "    shuffle=True,\n",
    "    callbacks=[early_stop, lr_scheduler]\n",
    ")"
   ]
  },
  {
   "cell_type": "markdown",
   "id": "774509ea-21fe-4c38-b335-9c8d2074c505",
   "metadata": {},
   "source": [
    "**Evaluation**:"
   ]
  },
  {
   "cell_type": "code",
   "execution_count": 21,
   "id": "b1b0c012-97c8-4b08-99b0-0cab587639dd",
   "metadata": {},
   "outputs": [
    {
     "name": "stdout",
     "output_type": "stream",
     "text": [
      "471337/471337 [==============================] - 524s 1ms/step\n"
     ]
    }
   ],
   "source": [
    "X_test_pred = autoencoder.predict(X_test)\n",
    "mse = np.mean(np.power(X_test - X_test_pred, 2), axis=1)"
   ]
  },
  {
   "cell_type": "code",
   "execution_count": 22,
   "id": "cf861068-1b57-402d-9d93-f0b38acb714d",
   "metadata": {},
   "outputs": [
    {
     "data": {
      "image/png": "[encoded data removed]",
      "text/plain": [
       "<Figure size 640x480 with 1 Axes>"
      ]
     },
     "metadata": {},
     "output_type": "display_data"
    }
   ],
   "source": [
    "sns.histplot(mse[y_test == 0], color='blue', label='Normal', bins=100, stat='density')\n",
    "sns.histplot(mse[y_test == 1], color='red', label='Anomaly', bins=100, stat='density')\n",
    "plt.legend()\n",
    "plt.title(\"Reconstruction Error Distribution\")\n",
    "plt.show()"
   ]
  },
  {
   "cell_type": "code",
   "execution_count": 29,
   "id": "9f95bfba-796b-42d8-95a3-91772bb3dd27",
   "metadata": {},
   "outputs": [],
   "source": [
    "threshold = np.percentile(mse[y_test == 0], 95)"
   ]
  },
  {
   "cell_type": "code",
   "execution_count": 30,
   "id": "1ab935fb-04e2-4682-8680-70ead9665424",
   "metadata": {},
   "outputs": [],
   "source": [
    "y_pred = (mse > threshold).astype(int)"
   ]
  },
  {
   "cell_type": "code",
   "execution_count": 31,
   "id": "b9012ce4-50d5-4923-a655-b5074a538214",
   "metadata": {},
   "outputs": [
    {
     "name": "stdout",
     "output_type": "stream",
     "text": [
      "[[14328508   754132]\n",
      " [     138        3]]\n",
      "              precision    recall  f1-score   support\n",
      "\n",
      "           0       1.00      0.95      0.97  15082640\n",
      "           1       0.00      0.02      0.00       141\n",
      "\n",
      "    accuracy                           0.95  15082781\n",
      "   macro avg       0.50      0.49      0.49  15082781\n",
      "weighted avg       1.00      0.95      0.97  15082781\n",
      "\n"
     ]
    }
   ],
   "source": [
    "print(confusion_matrix(y_test, y_pred))\n",
    "print(classification_report(y_test, y_pred))"
   ]
  },
  {
   "cell_type": "markdown",
   "id": "529e090d-4dc9-4cf6-b495-dccdb9c0205f",
   "metadata": {},
   "source": [
    "**06/07/2025**: After extensive experimentation with the RBA dataset, we built and trained a well-structured AutoEncoder using MinMax-scaled inputs and proper regularization techniques (batch normalization, learning rate scheduling, etc.). Despite achieving very low reconstruction loss (~1e-5), the model initially failed to differentiate between normal and anomalous login attempts, largely due to extremely high data redundancy — over 24.5 million duplicate entries were found among the 25 million training samples. After removing duplicates, the model’s ability to generalize improved, resulting in a moderate increase in anomaly recall (up to 22%) and clearer separation in the reconstruction error histogram. This highlights a crucial limitation: **AutoEncoders cannot detect subtle behavioral anomalies unless the dataset includes user-specific patterns**. Without features such as user identifiers or historical behavior, login data appears structurally similar across both normal and malicious samples. Future work will involve experimenting with Denoising AutoEncoders and potentially pre-trained models from TensorFlow Hub, as well as reintroducing unique identifiers like IP addresses to model behavior over time. Overall, while the current setup performs as expected under the constraints, **true anomaly detection will require behavior-aware features**."
   ]
  }
 ],
 "metadata": {
  "kernelspec": {
   "display_name": "Python 3 (ipykernel)",
   "language": "python",
   "name": "python3"
  },
  "language_info": {
   "codemirror_mode": {
    "name": "ipython",
    "version": 3
   },
   "file_extension": ".py",
   "mimetype": "text/x-python",
   "name": "python",
   "nbconvert_exporter": "python",
   "pygments_lexer": "ipython3",
   "version": "3.10.0"
  }
 },
 "nbformat": 4,
 "nbformat_minor": 5
}
