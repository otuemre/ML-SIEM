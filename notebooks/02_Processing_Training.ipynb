{
 "cells": [
  {
   "cell_type": "markdown",
   "id": "da4bdb66-c8ca-47fa-832a-3df7ef7ca3a3",
   "metadata": {},
   "source": [
    "# Preprocessing\n",
    "\n",
    "In this section, we will prepare the dataset for anomaly detection using neural networks in TensorFlow. Since we’re planning to use AutoEncoders and other deep learning models, we will avoid one-hot encoding to reduce dimensionality and instead apply label encoding for categorical features.\n",
    "\n",
    "Here's a summary of the preprocessing steps:\n",
    "- **Country Code**: With over 229 unique values, we will apply **label encoding** to represent countries numerically. One-hot encoding would significantly increase the feature space, which is not optimal for neural networks.\n",
    "- **Device Type**: This has a limited number of categories and will also be **label encoded**.\n",
    "- **Boolean Features** (`is_login_success`, `is_attack_ip`, `is_account_takeover`): These will be converted to integers — `False` as `0` and `True` as `1`.\n",
    "- **Browser Name** and **Operating System Name**: These categorical features will be **label encoded** as well. One-hot encoding is unnecessary here, given our modeling choice.\n",
    "\n",
    "This encoding strategy is compact and well-suited for TensorFlow models, ensuring that our AutoEncoder and any other anomaly detection algorithms can efficiently process the input features."
   ]
  },
  {
   "cell_type": "code",
   "execution_count": 13,
   "id": "860738e3-6c51-44c2-a43a-3fd2a62866ca",
   "metadata": {},
   "outputs": [],
   "source": [
    "# General purpose\n",
    "import numpy as np\n",
    "import pandas as pd\n",
    "\n",
    "# Dask for handling large datasets\n",
    "import dask.dataframe as dd\n",
    "\n",
    "# Encoding\n",
    "from sklearn.preprocessing import LabelEncoder\n",
    "\n",
    "# Scaling\n",
    "from sklearn.preprocessing import MinMaxScaler\n",
    "\n",
    "# TensorFlow for model building\n",
    "import tensorflow as tf\n",
    "from tensorflow.keras.models import Model\n",
    "from tensorflow.keras.layers import Input, Dense\n",
    "\n",
    "# Visualization\n",
    "import matplotlib.pyplot as plt\n",
    "import seaborn as sns\n",
    "\n",
    "# System and warnings\n",
    "import os\n",
    "import warnings\n",
    "warnings.filterwarnings('ignore')"
   ]
  },
  {
   "cell_type": "code",
   "execution_count": 4,
   "id": "081cfd9b-0d91-419e-a35c-147d77a6cf47",
   "metadata": {},
   "outputs": [],
   "source": [
    "# Step 1: Load partitioned CSVs\n",
    "df = dd.read_csv('../data/processed/*.part')\n",
    "\n",
    "# Step 2: Drop index early\n",
    "df = df.reset_index(drop=True)\n",
    "\n",
    "# Step 3: Optional — check for duplicate column names (only if you're unsure)\n",
    "assert df.columns.duplicated().sum() == 0, \"You have duplicate column names!\"\n",
    "\n",
    "# Step 4: Compute it into memory\n",
    "df = df.compute()"
   ]
  },
  {
   "cell_type": "code",
   "execution_count": 5,
   "id": "7312efdd-b260-46e7-b468-3e7ad2011868",
   "metadata": {},
   "outputs": [
    {
     "data": {
      "text/plain": [
       "user_id                          int64\n",
       "country_code           string[pyarrow]\n",
       "asn                              int64\n",
       "device_type            string[pyarrow]\n",
       "is_login_success                  bool\n",
       "is_attack_ip                      bool\n",
       "is_account_takeover               bool\n",
       "login_hours                      int64\n",
       "login_day                        int64\n",
       "browser_name           string[pyarrow]\n",
       "os_name                string[pyarrow]\n",
       "dtype: object"
      ]
     },
     "execution_count": 5,
     "metadata": {},
     "output_type": "execute_result"
    }
   ],
   "source": [
    "df.dtypes"
   ]
  },
  {
   "cell_type": "markdown",
   "id": "c435ceff-09d0-4998-8fdc-71643703c4f8",
   "metadata": {},
   "source": [
    "**Encoding the Columns**:"
   ]
  },
  {
   "cell_type": "code",
   "execution_count": 7,
   "id": "ca87a29d-901f-4137-8369-a80573157d52",
   "metadata": {},
   "outputs": [],
   "source": [
    "# Columns to encode\n",
    "cols_to_encode = ['country_code', 'device_type', 'browser_name', 'os_name']\n",
    "\n",
    "# Store encoders\n",
    "encoders = {}\n",
    "\n",
    "# Encode each columns\n",
    "for col in cols_to_encode:\n",
    "    le = LabelEncoder()\n",
    "    df[col] = df[col] = le.fit_transform(df[col].astype(str))\n",
    "    encoders[col] = le \n",
    "\n",
    "# Boolean columns\n",
    "bool_cols = ['is_login_success', 'is_attack_ip', 'is_account_takeover']\n",
    "for col in bool_cols:\n",
    "    df[col] = df[col].astype(int)"
   ]
  },
  {
   "cell_type": "code",
   "execution_count": 8,
   "id": "86f035f4-ac9c-4b92-b376-0c577c49d65e",
   "metadata": {},
   "outputs": [
    {
     "data": {
      "text/plain": [
       "user_id                int64\n",
       "country_code           int32\n",
       "asn                    int64\n",
       "device_type            int32\n",
       "is_login_success       int32\n",
       "is_attack_ip           int32\n",
       "is_account_takeover    int32\n",
       "login_hours            int64\n",
       "login_day              int64\n",
       "browser_name           int32\n",
       "os_name                int32\n",
       "dtype: object"
      ]
     },
     "execution_count": 8,
     "metadata": {},
     "output_type": "execute_result"
    }
   ],
   "source": [
    "# Verify Encoding\n",
    "df.dtypes"
   ]
  },
  {
   "cell_type": "code",
   "execution_count": 9,
   "id": "de9e30c3-25f7-4ca8-bce1-09128130e9b8",
   "metadata": {},
   "outputs": [
    {
     "data": {
      "text/html": [
       "<div>\n",
       "<style scoped>\n",
       "    .dataframe tbody tr th:only-of-type {\n",
       "        vertical-align: middle;\n",
       "    }\n",
       "\n",
       "    .dataframe tbody tr th {\n",
       "        vertical-align: top;\n",
       "    }\n",
       "\n",
       "    .dataframe thead th {\n",
       "        text-align: right;\n",
       "    }\n",
       "</style>\n",
       "<table border=\"1\" class=\"dataframe\">\n",
       "  <thead>\n",
       "    <tr style=\"text-align: right;\">\n",
       "      <th></th>\n",
       "      <th>user_id</th>\n",
       "      <th>country_code</th>\n",
       "      <th>asn</th>\n",
       "      <th>device_type</th>\n",
       "      <th>is_login_success</th>\n",
       "      <th>is_attack_ip</th>\n",
       "      <th>is_account_takeover</th>\n",
       "      <th>login_hours</th>\n",
       "      <th>login_day</th>\n",
       "      <th>browser_name</th>\n",
       "      <th>os_name</th>\n",
       "    </tr>\n",
       "  </thead>\n",
       "  <tbody>\n",
       "    <tr>\n",
       "      <th>0</th>\n",
       "      <td>-4324475583306591935</td>\n",
       "      <td>153</td>\n",
       "      <td>29695</td>\n",
       "      <td>2</td>\n",
       "      <td>0</td>\n",
       "      <td>0</td>\n",
       "      <td>0</td>\n",
       "      <td>12</td>\n",
       "      <td>0</td>\n",
       "      <td>46</td>\n",
       "      <td>43</td>\n",
       "    </tr>\n",
       "    <tr>\n",
       "      <th>1</th>\n",
       "      <td>-4324475583306591935</td>\n",
       "      <td>11</td>\n",
       "      <td>60117</td>\n",
       "      <td>2</td>\n",
       "      <td>0</td>\n",
       "      <td>0</td>\n",
       "      <td>0</td>\n",
       "      <td>12</td>\n",
       "      <td>0</td>\n",
       "      <td>24</td>\n",
       "      <td>0</td>\n",
       "    </tr>\n",
       "    <tr>\n",
       "      <th>2</th>\n",
       "      <td>-3284137479262433373</td>\n",
       "      <td>153</td>\n",
       "      <td>29695</td>\n",
       "      <td>2</td>\n",
       "      <td>1</td>\n",
       "      <td>0</td>\n",
       "      <td>0</td>\n",
       "      <td>12</td>\n",
       "      <td>0</td>\n",
       "      <td>5</td>\n",
       "      <td>43</td>\n",
       "    </tr>\n",
       "    <tr>\n",
       "      <th>3</th>\n",
       "      <td>-4324475583306591935</td>\n",
       "      <td>211</td>\n",
       "      <td>393398</td>\n",
       "      <td>2</td>\n",
       "      <td>0</td>\n",
       "      <td>0</td>\n",
       "      <td>0</td>\n",
       "      <td>12</td>\n",
       "      <td>0</td>\n",
       "      <td>25</td>\n",
       "      <td>0</td>\n",
       "    </tr>\n",
       "    <tr>\n",
       "      <th>4</th>\n",
       "      <td>-4618854071942621186</td>\n",
       "      <td>211</td>\n",
       "      <td>398986</td>\n",
       "      <td>2</td>\n",
       "      <td>0</td>\n",
       "      <td>1</td>\n",
       "      <td>0</td>\n",
       "      <td>12</td>\n",
       "      <td>0</td>\n",
       "      <td>25</td>\n",
       "      <td>0</td>\n",
       "    </tr>\n",
       "  </tbody>\n",
       "</table>\n",
       "</div>"
      ],
      "text/plain": [
       "               user_id  country_code     asn  device_type  is_login_success  \\\n",
       "0 -4324475583306591935           153   29695            2                 0   \n",
       "1 -4324475583306591935            11   60117            2                 0   \n",
       "2 -3284137479262433373           153   29695            2                 1   \n",
       "3 -4324475583306591935           211  393398            2                 0   \n",
       "4 -4618854071942621186           211  398986            2                 0   \n",
       "\n",
       "   is_attack_ip  is_account_takeover  login_hours  login_day  browser_name  \\\n",
       "0             0                    0           12          0            46   \n",
       "1             0                    0           12          0            24   \n",
       "2             0                    0           12          0             5   \n",
       "3             0                    0           12          0            25   \n",
       "4             1                    0           12          0            25   \n",
       "\n",
       "   os_name  \n",
       "0       43  \n",
       "1        0  \n",
       "2       43  \n",
       "3        0  \n",
       "4        0  "
      ]
     },
     "execution_count": 9,
     "metadata": {},
     "output_type": "execute_result"
    }
   ],
   "source": [
    "df.head()"
   ]
  },
  {
   "cell_type": "markdown",
   "id": "2a6c13f5-4155-41fd-95eb-f66fa9c65489",
   "metadata": {},
   "source": [
    "**Scale the Columns with `MinMaxScaler`**:"
   ]
  },
  {
   "cell_type": "code",
   "execution_count": 14,
   "id": "fdcb978a-10e4-4b26-9b6f-e7466d5dc50f",
   "metadata": {},
   "outputs": [],
   "source": [
    "# Columns to scale\n",
    "cols_to_scale = [\n",
    "    'country_code', 'device_type',\n",
    "    'is_login_success', 'is_attack_ip',\n",
    "    'login_hours', 'login_day',\n",
    "    'browser_name', 'os_name'\n",
    "]\n",
    "\n",
    "# Initialize scaler\n",
    "scaler = MinMaxScaler()\n",
    "\n",
    "# Fit and transform\n",
    "df[cols_to_scale] = scaler.fit_transform(df[cols_to_scale])"
   ]
  },
  {
   "cell_type": "code",
   "execution_count": 15,
   "id": "3c055559-ccf2-4ce0-bf6d-be19ca975d91",
   "metadata": {},
   "outputs": [
    {
     "data": {
      "text/html": [
       "<div>\n",
       "<style scoped>\n",
       "    .dataframe tbody tr th:only-of-type {\n",
       "        vertical-align: middle;\n",
       "    }\n",
       "\n",
       "    .dataframe tbody tr th {\n",
       "        vertical-align: top;\n",
       "    }\n",
       "\n",
       "    .dataframe thead th {\n",
       "        text-align: right;\n",
       "    }\n",
       "</style>\n",
       "<table border=\"1\" class=\"dataframe\">\n",
       "  <thead>\n",
       "    <tr style=\"text-align: right;\">\n",
       "      <th></th>\n",
       "      <th>user_id</th>\n",
       "      <th>country_code</th>\n",
       "      <th>asn</th>\n",
       "      <th>device_type</th>\n",
       "      <th>is_login_success</th>\n",
       "      <th>is_attack_ip</th>\n",
       "      <th>is_account_takeover</th>\n",
       "      <th>login_hours</th>\n",
       "      <th>login_day</th>\n",
       "      <th>browser_name</th>\n",
       "      <th>os_name</th>\n",
       "    </tr>\n",
       "  </thead>\n",
       "  <tbody>\n",
       "    <tr>\n",
       "      <th>0</th>\n",
       "      <td>-4324475583306591935</td>\n",
       "      <td>0.671053</td>\n",
       "      <td>29695</td>\n",
       "      <td>0.5</td>\n",
       "      <td>0.0</td>\n",
       "      <td>0.0</td>\n",
       "      <td>0</td>\n",
       "      <td>0.521739</td>\n",
       "      <td>0.0</td>\n",
       "      <td>0.237113</td>\n",
       "      <td>0.977273</td>\n",
       "    </tr>\n",
       "    <tr>\n",
       "      <th>1</th>\n",
       "      <td>-4324475583306591935</td>\n",
       "      <td>0.048246</td>\n",
       "      <td>60117</td>\n",
       "      <td>0.5</td>\n",
       "      <td>0.0</td>\n",
       "      <td>0.0</td>\n",
       "      <td>0</td>\n",
       "      <td>0.521739</td>\n",
       "      <td>0.0</td>\n",
       "      <td>0.123711</td>\n",
       "      <td>0.000000</td>\n",
       "    </tr>\n",
       "    <tr>\n",
       "      <th>2</th>\n",
       "      <td>-3284137479262433373</td>\n",
       "      <td>0.671053</td>\n",
       "      <td>29695</td>\n",
       "      <td>0.5</td>\n",
       "      <td>1.0</td>\n",
       "      <td>0.0</td>\n",
       "      <td>0</td>\n",
       "      <td>0.521739</td>\n",
       "      <td>0.0</td>\n",
       "      <td>0.025773</td>\n",
       "      <td>0.977273</td>\n",
       "    </tr>\n",
       "    <tr>\n",
       "      <th>3</th>\n",
       "      <td>-4324475583306591935</td>\n",
       "      <td>0.925439</td>\n",
       "      <td>393398</td>\n",
       "      <td>0.5</td>\n",
       "      <td>0.0</td>\n",
       "      <td>0.0</td>\n",
       "      <td>0</td>\n",
       "      <td>0.521739</td>\n",
       "      <td>0.0</td>\n",
       "      <td>0.128866</td>\n",
       "      <td>0.000000</td>\n",
       "    </tr>\n",
       "    <tr>\n",
       "      <th>4</th>\n",
       "      <td>-4618854071942621186</td>\n",
       "      <td>0.925439</td>\n",
       "      <td>398986</td>\n",
       "      <td>0.5</td>\n",
       "      <td>0.0</td>\n",
       "      <td>1.0</td>\n",
       "      <td>0</td>\n",
       "      <td>0.521739</td>\n",
       "      <td>0.0</td>\n",
       "      <td>0.128866</td>\n",
       "      <td>0.000000</td>\n",
       "    </tr>\n",
       "  </tbody>\n",
       "</table>\n",
       "</div>"
      ],
      "text/plain": [
       "               user_id  country_code     asn  device_type  is_login_success  \\\n",
       "0 -4324475583306591935      0.671053   29695          0.5               0.0   \n",
       "1 -4324475583306591935      0.048246   60117          0.5               0.0   \n",
       "2 -3284137479262433373      0.671053   29695          0.5               1.0   \n",
       "3 -4324475583306591935      0.925439  393398          0.5               0.0   \n",
       "4 -4618854071942621186      0.925439  398986          0.5               0.0   \n",
       "\n",
       "   is_attack_ip  is_account_takeover  login_hours  login_day  browser_name  \\\n",
       "0           0.0                    0     0.521739        0.0      0.237113   \n",
       "1           0.0                    0     0.521739        0.0      0.123711   \n",
       "2           0.0                    0     0.521739        0.0      0.025773   \n",
       "3           0.0                    0     0.521739        0.0      0.128866   \n",
       "4           1.0                    0     0.521739        0.0      0.128866   \n",
       "\n",
       "    os_name  \n",
       "0  0.977273  \n",
       "1  0.000000  \n",
       "2  0.977273  \n",
       "3  0.000000  \n",
       "4  0.000000  "
      ]
     },
     "execution_count": 15,
     "metadata": {},
     "output_type": "execute_result"
    }
   ],
   "source": [
    "df.head()"
   ]
  },
  {
   "cell_type": "code",
   "execution_count": 16,
   "id": "1e11067b-812e-4b13-bd31-b79e2a53df94",
   "metadata": {},
   "outputs": [
    {
     "data": {
      "text/plain": [
       "user_id                  int64\n",
       "country_code           float64\n",
       "asn                      int64\n",
       "device_type            float64\n",
       "is_login_success       float64\n",
       "is_attack_ip           float64\n",
       "is_account_takeover      int32\n",
       "login_hours            float64\n",
       "login_day              float64\n",
       "browser_name           float64\n",
       "os_name                float64\n",
       "dtype: object"
      ]
     },
     "execution_count": 16,
     "metadata": {},
     "output_type": "execute_result"
    }
   ],
   "source": [
    "df.dtypes"
   ]
  },
  {
   "cell_type": "markdown",
   "id": "ed11dfe2-48fe-429d-b5fb-fcdf506830ec",
   "metadata": {},
   "source": [
    "**Type Casting**:"
   ]
  },
  {
   "cell_type": "code",
   "execution_count": 17,
   "id": "35edbbf3-0bcf-40ca-a9b2-7626dd59044d",
   "metadata": {},
   "outputs": [
    {
     "name": "stdout",
     "output_type": "stream",
     "text": [
      "country_code: min = 0.0, max = 1.0\n",
      "device_type: min = 0.0, max = 1.0\n",
      "login_hours: min = 0.0, max = 1.0\n",
      "login_day: min = 0.0, max = 1.0\n",
      "browser_name: min = 0.0, max = 1.0\n",
      "os_name: min = 0.0, max = 1.0\n",
      "user_id: min = -9223371191532286299, max = 9223358976525004362\n",
      "asn: min = 12, max = 507727\n"
     ]
    }
   ],
   "source": [
    "columns_to_check = ['country_code', 'device_type', 'login_hours', 'login_day', 'browser_name', 'os_name', 'user_id', 'asn']\n",
    "\n",
    "for col in columns_to_check:\n",
    "    min_val = df[col].min()\n",
    "    max_val = df[col].max()\n",
    "    print(f\"{col}: min = {min_val}, max = {max_val}\")"
   ]
  },
  {
   "cell_type": "code",
   "execution_count": 18,
   "id": "47fa852f-60a8-474e-b1a9-8abfbf71be9a",
   "metadata": {},
   "outputs": [],
   "source": [
    "# Type casting for memory efficiency\n",
    "df['country_code'] = df['country_code'].astype(np.float32)\n",
    "df['device_type'] = df['device_type'].astype(np.float32)\n",
    "df['is_login_success'] = df['is_login_success'].astype(np.float32)\n",
    "df['is_attack_ip'] = df['is_attack_ip'].astype(np.float32)\n",
    "df['login_hours'] = df['login_hours'].astype(np.float32)\n",
    "df['login_day'] = df['login_day'].astype(np.float32)\n",
    "df['browser_name'] = df['browser_name'].astype(np.float32)\n",
    "df['os_name'] = df['os_name'].astype(np.float32)\n",
    "\n",
    "# Cast other relevant columns\n",
    "df['asn'] = df['asn'].astype(np.uint32)\n",
    "df['is_account_takeover'] = df['is_account_takeover'].astype(np.uint8)"
   ]
  },
  {
   "cell_type": "code",
   "execution_count": 19,
   "id": "e1dc94f4-4f45-4af2-ad2b-a20f26e58099",
   "metadata": {},
   "outputs": [
    {
     "data": {
      "text/plain": [
       "user_id                  int64\n",
       "country_code           float32\n",
       "asn                     uint32\n",
       "device_type            float32\n",
       "is_login_success       float32\n",
       "is_attack_ip           float32\n",
       "is_account_takeover      uint8\n",
       "login_hours            float32\n",
       "login_day              float32\n",
       "browser_name           float32\n",
       "os_name                float32\n",
       "dtype: object"
      ]
     },
     "execution_count": 19,
     "metadata": {},
     "output_type": "execute_result"
    }
   ],
   "source": [
    "# Verify\n",
    "df.dtypes"
   ]
  },
  {
   "cell_type": "markdown",
   "id": "e67e3a0a-1829-40ee-b9b9-cc9bd5ef383b",
   "metadata": {},
   "source": [
    "**Save Data Frame for the Future**:"
   ]
  },
  {
   "cell_type": "code",
   "execution_count": 20,
   "id": "a3e0077d-94fb-4624-b252-f0a12ecd3b79",
   "metadata": {},
   "outputs": [],
   "source": [
    "df.to_parquet('../data/scaled/scaled_data.parquet', index=False)"
   ]
  }
 ],
 "metadata": {
  "kernelspec": {
   "display_name": "Python 3 (ipykernel)",
   "language": "python",
   "name": "python3"
  },
  "language_info": {
   "codemirror_mode": {
    "name": "ipython",
    "version": 3
   },
   "file_extension": ".py",
   "mimetype": "text/x-python",
   "name": "python",
   "nbconvert_exporter": "python",
   "pygments_lexer": "ipython3",
   "version": "3.10.0"
  }
 },
 "nbformat": 4,
 "nbformat_minor": 5
}
