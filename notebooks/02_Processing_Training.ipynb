{
 "cells": [
  {
   "cell_type": "markdown",
   "id": "da4bdb66-c8ca-47fa-832a-3df7ef7ca3a3",
   "metadata": {},
   "source": [
    "# Preprocessing\n",
    "\n",
    "In this section, we will prepare the dataset for anomaly detection using neural networks in TensorFlow. Since we’re planning to use AutoEncoders and other deep learning models, we will avoid one-hot encoding to reduce dimensionality and instead apply label encoding for categorical features.\n",
    "\n",
    "Here's a summary of the preprocessing steps:\n",
    "- **Country Code**: With over 229 unique values, we will apply **label encoding** to represent countries numerically. One-hot encoding would significantly increase the feature space, which is not optimal for neural networks.\n",
    "- **Device Type**: This has a limited number of categories and will also be **label encoded**.\n",
    "- **Boolean Features** (`is_login_success`, `is_attack_ip`, `is_account_takeover`): These will be converted to integers — `False` as `0` and `True` as `1`.\n",
    "- **Browser Name** and **Operating System Name**: These categorical features will be **label encoded** as well. One-hot encoding is unnecessary here, given our modeling choice.\n",
    "\n",
    "This encoding strategy is compact and well-suited for TensorFlow models, ensuring that our AutoEncoder and any other anomaly detection algorithms can efficiently process the input features."
   ]
  },
  {
   "cell_type": "code",
   "execution_count": 1,
   "id": "860738e3-6c51-44c2-a43a-3fd2a62866ca",
   "metadata": {},
   "outputs": [],
   "source": [
    "# General purpose\n",
    "import numpy as np\n",
    "import pandas as pd\n",
    "\n",
    "# Dask for handling large datasets / Preparation\n",
    "import dask.dataframe as dd\n",
    "from sklearn.utils import shuffle\n",
    "\n",
    "# Encoding\n",
    "from sklearn.preprocessing import LabelEncoder\n",
    "\n",
    "# Scaling\n",
    "from sklearn.preprocessing import MinMaxScaler\n",
    "\n",
    "# TensorFlow for model building\n",
    "import tensorflow as tf\n",
    "from tensorflow.keras.models import Model\n",
    "from tensorflow.keras.layers import Input, Dense, BatchNormalization, Dropout\n",
    "from tensorflow.keras import regularizers\n",
    "from tensorflow.keras.callbacks import EarlyStopping, ReduceLROnPlateau\n",
    "\n",
    "# Evaluation\n",
    "from sklearn.metrics import classification_report, confusion_matrix\n",
    "\n",
    "# Visualization\n",
    "import matplotlib.pyplot as plt\n",
    "import seaborn as sns\n",
    "\n",
    "# System and warnings\n",
    "import os\n",
    "import warnings\n",
    "warnings.filterwarnings('ignore')\n",
    "\n",
    "# Time\n",
    "import time"
   ]
  },
  {
   "cell_type": "code",
   "execution_count": 2,
   "id": "081cfd9b-0d91-419e-a35c-147d77a6cf47",
   "metadata": {},
   "outputs": [],
   "source": [
    "# Step 1: Load partitioned CSVs\n",
    "df = dd.read_csv('../data/processed/*.part')\n",
    "\n",
    "# Step 2: Drop index early\n",
    "df = df.reset_index(drop=True)\n",
    "\n",
    "# Step 3: Optional — check for duplicate column names (only if you're unsure)\n",
    "assert df.columns.duplicated().sum() == 0, \"You have duplicate column names!\"\n",
    "\n",
    "# Step 4: Compute it into memory\n",
    "df = df.compute()"
   ]
  },
  {
   "cell_type": "code",
   "execution_count": 3,
   "id": "7312efdd-b260-46e7-b468-3e7ad2011868",
   "metadata": {},
   "outputs": [
    {
     "data": {
      "text/plain": [
       "country_code           string[pyarrow]\n",
       "device_type            string[pyarrow]\n",
       "is_login_success                  bool\n",
       "is_attack_ip                      bool\n",
       "is_account_takeover               bool\n",
       "login_hours                      int64\n",
       "login_day                        int64\n",
       "browser_name           string[pyarrow]\n",
       "os_name                string[pyarrow]\n",
       "ip_1                           float64\n",
       "ip_2                           float64\n",
       "ip_3                           float64\n",
       "ip_4                           float64\n",
       "dtype: object"
      ]
     },
     "execution_count": 3,
     "metadata": {},
     "output_type": "execute_result"
    }
   ],
   "source": [
    "df.dtypes"
   ]
  },
  {
   "cell_type": "markdown",
   "id": "c435ceff-09d0-4998-8fdc-71643703c4f8",
   "metadata": {},
   "source": [
    "**Encoding the Columns**:"
   ]
  },
  {
   "cell_type": "code",
   "execution_count": 4,
   "id": "ca87a29d-901f-4137-8369-a80573157d52",
   "metadata": {},
   "outputs": [],
   "source": [
    "# Columns to encode\n",
    "cols_to_encode = ['country_code', 'device_type', 'browser_name', 'os_name']\n",
    "\n",
    "# Store encoders\n",
    "encoders = {}\n",
    "\n",
    "# Encode each columns\n",
    "for col in cols_to_encode:\n",
    "    le = LabelEncoder()\n",
    "    df[col] = df[col] = le.fit_transform(df[col].astype(str))\n",
    "    encoders[col] = le \n",
    "\n",
    "# Boolean columns\n",
    "bool_cols = ['is_login_success', 'is_attack_ip', 'is_account_takeover']\n",
    "for col in bool_cols:\n",
    "    df[col] = df[col].astype(int)"
   ]
  },
  {
   "cell_type": "code",
   "execution_count": 5,
   "id": "86f035f4-ac9c-4b92-b376-0c577c49d65e",
   "metadata": {},
   "outputs": [
    {
     "data": {
      "text/plain": [
       "country_code             int32\n",
       "device_type              int32\n",
       "is_login_success         int32\n",
       "is_attack_ip             int32\n",
       "is_account_takeover      int32\n",
       "login_hours              int64\n",
       "login_day                int64\n",
       "browser_name             int32\n",
       "os_name                  int32\n",
       "ip_1                   float64\n",
       "ip_2                   float64\n",
       "ip_3                   float64\n",
       "ip_4                   float64\n",
       "dtype: object"
      ]
     },
     "execution_count": 5,
     "metadata": {},
     "output_type": "execute_result"
    }
   ],
   "source": [
    "# Verify Encoding\n",
    "df.dtypes"
   ]
  },
  {
   "cell_type": "code",
   "execution_count": 6,
   "id": "de9e30c3-25f7-4ca8-bce1-09128130e9b8",
   "metadata": {},
   "outputs": [
    {
     "data": {
      "text/html": [
       "<div>\n",
       "<style scoped>\n",
       "    .dataframe tbody tr th:only-of-type {\n",
       "        vertical-align: middle;\n",
       "    }\n",
       "\n",
       "    .dataframe tbody tr th {\n",
       "        vertical-align: top;\n",
       "    }\n",
       "\n",
       "    .dataframe thead th {\n",
       "        text-align: right;\n",
       "    }\n",
       "</style>\n",
       "<table border=\"1\" class=\"dataframe\">\n",
       "  <thead>\n",
       "    <tr style=\"text-align: right;\">\n",
       "      <th></th>\n",
       "      <th>country_code</th>\n",
       "      <th>device_type</th>\n",
       "      <th>is_login_success</th>\n",
       "      <th>is_attack_ip</th>\n",
       "      <th>is_account_takeover</th>\n",
       "      <th>login_hours</th>\n",
       "      <th>login_day</th>\n",
       "      <th>browser_name</th>\n",
       "      <th>os_name</th>\n",
       "      <th>ip_1</th>\n",
       "      <th>ip_2</th>\n",
       "      <th>ip_3</th>\n",
       "      <th>ip_4</th>\n",
       "    </tr>\n",
       "  </thead>\n",
       "  <tbody>\n",
       "    <tr>\n",
       "      <th>0</th>\n",
       "      <td>153</td>\n",
       "      <td>2</td>\n",
       "      <td>0</td>\n",
       "      <td>0</td>\n",
       "      <td>0</td>\n",
       "      <td>12</td>\n",
       "      <td>0</td>\n",
       "      <td>46</td>\n",
       "      <td>43</td>\n",
       "      <td>0.039216</td>\n",
       "      <td>0.000000</td>\n",
       "      <td>0.254902</td>\n",
       "      <td>0.670588</td>\n",
       "    </tr>\n",
       "    <tr>\n",
       "      <th>1</th>\n",
       "      <td>11</td>\n",
       "      <td>2</td>\n",
       "      <td>0</td>\n",
       "      <td>0</td>\n",
       "      <td>0</td>\n",
       "      <td>12</td>\n",
       "      <td>0</td>\n",
       "      <td>24</td>\n",
       "      <td>0</td>\n",
       "      <td>0.760784</td>\n",
       "      <td>0.341176</td>\n",
       "      <td>0.811765</td>\n",
       "      <td>0.023529</td>\n",
       "    </tr>\n",
       "    <tr>\n",
       "      <th>2</th>\n",
       "      <td>153</td>\n",
       "      <td>2</td>\n",
       "      <td>1</td>\n",
       "      <td>0</td>\n",
       "      <td>0</td>\n",
       "      <td>12</td>\n",
       "      <td>0</td>\n",
       "      <td>5</td>\n",
       "      <td>43</td>\n",
       "      <td>0.317647</td>\n",
       "      <td>0.654902</td>\n",
       "      <td>0.564706</td>\n",
       "      <td>0.227451</td>\n",
       "    </tr>\n",
       "    <tr>\n",
       "      <th>3</th>\n",
       "      <td>211</td>\n",
       "      <td>2</td>\n",
       "      <td>0</td>\n",
       "      <td>0</td>\n",
       "      <td>0</td>\n",
       "      <td>12</td>\n",
       "      <td>0</td>\n",
       "      <td>25</td>\n",
       "      <td>0</td>\n",
       "      <td>0.666667</td>\n",
       "      <td>0.152941</td>\n",
       "      <td>0.305882</td>\n",
       "      <td>0.596078</td>\n",
       "    </tr>\n",
       "    <tr>\n",
       "      <th>4</th>\n",
       "      <td>211</td>\n",
       "      <td>2</td>\n",
       "      <td>0</td>\n",
       "      <td>1</td>\n",
       "      <td>0</td>\n",
       "      <td>12</td>\n",
       "      <td>0</td>\n",
       "      <td>25</td>\n",
       "      <td>0</td>\n",
       "      <td>0.039216</td>\n",
       "      <td>0.000000</td>\n",
       "      <td>0.000000</td>\n",
       "      <td>0.184314</td>\n",
       "    </tr>\n",
       "  </tbody>\n",
       "</table>\n",
       "</div>"
      ],
      "text/plain": [
       "   country_code  device_type  is_login_success  is_attack_ip  \\\n",
       "0           153            2                 0             0   \n",
       "1            11            2                 0             0   \n",
       "2           153            2                 1             0   \n",
       "3           211            2                 0             0   \n",
       "4           211            2                 0             1   \n",
       "\n",
       "   is_account_takeover  login_hours  login_day  browser_name  os_name  \\\n",
       "0                    0           12          0            46       43   \n",
       "1                    0           12          0            24        0   \n",
       "2                    0           12          0             5       43   \n",
       "3                    0           12          0            25        0   \n",
       "4                    0           12          0            25        0   \n",
       "\n",
       "       ip_1      ip_2      ip_3      ip_4  \n",
       "0  0.039216  0.000000  0.254902  0.670588  \n",
       "1  0.760784  0.341176  0.811765  0.023529  \n",
       "2  0.317647  0.654902  0.564706  0.227451  \n",
       "3  0.666667  0.152941  0.305882  0.596078  \n",
       "4  0.039216  0.000000  0.000000  0.184314  "
      ]
     },
     "execution_count": 6,
     "metadata": {},
     "output_type": "execute_result"
    }
   ],
   "source": [
    "df.head()"
   ]
  },
  {
   "cell_type": "markdown",
   "id": "2a6c13f5-4155-41fd-95eb-f66fa9c65489",
   "metadata": {},
   "source": [
    "**Scale the Columns with `MinMaxScaler`**:"
   ]
  },
  {
   "cell_type": "code",
   "execution_count": 7,
   "id": "fdcb978a-10e4-4b26-9b6f-e7466d5dc50f",
   "metadata": {},
   "outputs": [],
   "source": [
    "# Columns to scale\n",
    "cols_to_scale = [\n",
    "    'country_code', 'device_type',\n",
    "    'is_login_success', 'is_attack_ip',\n",
    "    'login_hours', 'login_day',\n",
    "    'browser_name', 'os_name'\n",
    "]\n",
    "\n",
    "# Initialize scaler\n",
    "scaler = MinMaxScaler()\n",
    "\n",
    "# Fit and transform\n",
    "df[cols_to_scale] = scaler.fit_transform(df[cols_to_scale])"
   ]
  },
  {
   "cell_type": "code",
   "execution_count": 8,
   "id": "3c055559-ccf2-4ce0-bf6d-be19ca975d91",
   "metadata": {},
   "outputs": [
    {
     "data": {
      "text/html": [
       "<div>\n",
       "<style scoped>\n",
       "    .dataframe tbody tr th:only-of-type {\n",
       "        vertical-align: middle;\n",
       "    }\n",
       "\n",
       "    .dataframe tbody tr th {\n",
       "        vertical-align: top;\n",
       "    }\n",
       "\n",
       "    .dataframe thead th {\n",
       "        text-align: right;\n",
       "    }\n",
       "</style>\n",
       "<table border=\"1\" class=\"dataframe\">\n",
       "  <thead>\n",
       "    <tr style=\"text-align: right;\">\n",
       "      <th></th>\n",
       "      <th>country_code</th>\n",
       "      <th>device_type</th>\n",
       "      <th>is_login_success</th>\n",
       "      <th>is_attack_ip</th>\n",
       "      <th>is_account_takeover</th>\n",
       "      <th>login_hours</th>\n",
       "      <th>login_day</th>\n",
       "      <th>browser_name</th>\n",
       "      <th>os_name</th>\n",
       "      <th>ip_1</th>\n",
       "      <th>ip_2</th>\n",
       "      <th>ip_3</th>\n",
       "      <th>ip_4</th>\n",
       "    </tr>\n",
       "  </thead>\n",
       "  <tbody>\n",
       "    <tr>\n",
       "      <th>0</th>\n",
       "      <td>0.671053</td>\n",
       "      <td>0.5</td>\n",
       "      <td>0.0</td>\n",
       "      <td>0.0</td>\n",
       "      <td>0</td>\n",
       "      <td>0.521739</td>\n",
       "      <td>0.0</td>\n",
       "      <td>0.237113</td>\n",
       "      <td>0.977273</td>\n",
       "      <td>0.039216</td>\n",
       "      <td>0.000000</td>\n",
       "      <td>0.254902</td>\n",
       "      <td>0.670588</td>\n",
       "    </tr>\n",
       "    <tr>\n",
       "      <th>1</th>\n",
       "      <td>0.048246</td>\n",
       "      <td>0.5</td>\n",
       "      <td>0.0</td>\n",
       "      <td>0.0</td>\n",
       "      <td>0</td>\n",
       "      <td>0.521739</td>\n",
       "      <td>0.0</td>\n",
       "      <td>0.123711</td>\n",
       "      <td>0.000000</td>\n",
       "      <td>0.760784</td>\n",
       "      <td>0.341176</td>\n",
       "      <td>0.811765</td>\n",
       "      <td>0.023529</td>\n",
       "    </tr>\n",
       "    <tr>\n",
       "      <th>2</th>\n",
       "      <td>0.671053</td>\n",
       "      <td>0.5</td>\n",
       "      <td>1.0</td>\n",
       "      <td>0.0</td>\n",
       "      <td>0</td>\n",
       "      <td>0.521739</td>\n",
       "      <td>0.0</td>\n",
       "      <td>0.025773</td>\n",
       "      <td>0.977273</td>\n",
       "      <td>0.317647</td>\n",
       "      <td>0.654902</td>\n",
       "      <td>0.564706</td>\n",
       "      <td>0.227451</td>\n",
       "    </tr>\n",
       "    <tr>\n",
       "      <th>3</th>\n",
       "      <td>0.925439</td>\n",
       "      <td>0.5</td>\n",
       "      <td>0.0</td>\n",
       "      <td>0.0</td>\n",
       "      <td>0</td>\n",
       "      <td>0.521739</td>\n",
       "      <td>0.0</td>\n",
       "      <td>0.128866</td>\n",
       "      <td>0.000000</td>\n",
       "      <td>0.666667</td>\n",
       "      <td>0.152941</td>\n",
       "      <td>0.305882</td>\n",
       "      <td>0.596078</td>\n",
       "    </tr>\n",
       "    <tr>\n",
       "      <th>4</th>\n",
       "      <td>0.925439</td>\n",
       "      <td>0.5</td>\n",
       "      <td>0.0</td>\n",
       "      <td>1.0</td>\n",
       "      <td>0</td>\n",
       "      <td>0.521739</td>\n",
       "      <td>0.0</td>\n",
       "      <td>0.128866</td>\n",
       "      <td>0.000000</td>\n",
       "      <td>0.039216</td>\n",
       "      <td>0.000000</td>\n",
       "      <td>0.000000</td>\n",
       "      <td>0.184314</td>\n",
       "    </tr>\n",
       "  </tbody>\n",
       "</table>\n",
       "</div>"
      ],
      "text/plain": [
       "   country_code  device_type  is_login_success  is_attack_ip  \\\n",
       "0      0.671053          0.5               0.0           0.0   \n",
       "1      0.048246          0.5               0.0           0.0   \n",
       "2      0.671053          0.5               1.0           0.0   \n",
       "3      0.925439          0.5               0.0           0.0   \n",
       "4      0.925439          0.5               0.0           1.0   \n",
       "\n",
       "   is_account_takeover  login_hours  login_day  browser_name   os_name  \\\n",
       "0                    0     0.521739        0.0      0.237113  0.977273   \n",
       "1                    0     0.521739        0.0      0.123711  0.000000   \n",
       "2                    0     0.521739        0.0      0.025773  0.977273   \n",
       "3                    0     0.521739        0.0      0.128866  0.000000   \n",
       "4                    0     0.521739        0.0      0.128866  0.000000   \n",
       "\n",
       "       ip_1      ip_2      ip_3      ip_4  \n",
       "0  0.039216  0.000000  0.254902  0.670588  \n",
       "1  0.760784  0.341176  0.811765  0.023529  \n",
       "2  0.317647  0.654902  0.564706  0.227451  \n",
       "3  0.666667  0.152941  0.305882  0.596078  \n",
       "4  0.039216  0.000000  0.000000  0.184314  "
      ]
     },
     "execution_count": 8,
     "metadata": {},
     "output_type": "execute_result"
    }
   ],
   "source": [
    "df.head()"
   ]
  },
  {
   "cell_type": "code",
   "execution_count": 9,
   "id": "1e11067b-812e-4b13-bd31-b79e2a53df94",
   "metadata": {},
   "outputs": [
    {
     "data": {
      "text/plain": [
       "country_code           float64\n",
       "device_type            float64\n",
       "is_login_success       float64\n",
       "is_attack_ip           float64\n",
       "is_account_takeover      int32\n",
       "login_hours            float64\n",
       "login_day              float64\n",
       "browser_name           float64\n",
       "os_name                float64\n",
       "ip_1                   float64\n",
       "ip_2                   float64\n",
       "ip_3                   float64\n",
       "ip_4                   float64\n",
       "dtype: object"
      ]
     },
     "execution_count": 9,
     "metadata": {},
     "output_type": "execute_result"
    }
   ],
   "source": [
    "df.dtypes"
   ]
  },
  {
   "cell_type": "markdown",
   "id": "ed11dfe2-48fe-429d-b5fb-fcdf506830ec",
   "metadata": {},
   "source": [
    "**Type Casting**:"
   ]
  },
  {
   "cell_type": "code",
   "execution_count": 10,
   "id": "35edbbf3-0bcf-40ca-a9b2-7626dd59044d",
   "metadata": {},
   "outputs": [
    {
     "name": "stdout",
     "output_type": "stream",
     "text": [
      "country_code: min = 0.0, max = 1.0\n",
      "device_type: min = 0.0, max = 1.0\n",
      "login_hours: min = 0.0, max = 1.0\n",
      "login_day: min = 0.0, max = 1.0\n",
      "browser_name: min = 0.0, max = 1.0\n",
      "os_name: min = 0.0, max = 1.0\n"
     ]
    }
   ],
   "source": [
    "columns_to_check = ['country_code', 'device_type', 'login_hours', 'login_day', 'browser_name', 'os_name']\n",
    "\n",
    "for col in columns_to_check:\n",
    "    min_val = df[col].min()\n",
    "    max_val = df[col].max()\n",
    "    print(f\"{col}: min = {min_val}, max = {max_val}\")"
   ]
  },
  {
   "cell_type": "code",
   "execution_count": 11,
   "id": "47fa852f-60a8-474e-b1a9-8abfbf71be9a",
   "metadata": {},
   "outputs": [],
   "source": [
    "# Type casting for memory efficiency\n",
    "df['country_code'] = df['country_code'].astype(np.float32)\n",
    "df['device_type'] = df['device_type'].astype(np.float32)\n",
    "df['is_login_success'] = df['is_login_success'].astype(np.float32)\n",
    "df['is_attack_ip'] = df['is_attack_ip'].astype(np.float32)\n",
    "df['login_hours'] = df['login_hours'].astype(np.float32)\n",
    "df['login_day'] = df['login_day'].astype(np.float32)\n",
    "df['browser_name'] = df['browser_name'].astype(np.float32)\n",
    "df['os_name'] = df['os_name'].astype(np.float32)\n",
    "df['ip_1'] = df['ip_1'].astype(np.float32)\n",
    "df['ip_2'] = df['ip_2'].astype(np.float32)\n",
    "df['ip_3'] = df['ip_3'].astype(np.float32)\n",
    "df['ip_4'] = df['ip_4'].astype(np.float32)"
   ]
  },
  {
   "cell_type": "code",
   "execution_count": 12,
   "id": "e1dc94f4-4f45-4af2-ad2b-a20f26e58099",
   "metadata": {},
   "outputs": [
    {
     "data": {
      "text/plain": [
       "country_code           float32\n",
       "device_type            float32\n",
       "is_login_success       float32\n",
       "is_attack_ip           float32\n",
       "is_account_takeover      int32\n",
       "login_hours            float32\n",
       "login_day              float32\n",
       "browser_name           float32\n",
       "os_name                float32\n",
       "ip_1                   float32\n",
       "ip_2                   float32\n",
       "ip_3                   float32\n",
       "ip_4                   float32\n",
       "dtype: object"
      ]
     },
     "execution_count": 12,
     "metadata": {},
     "output_type": "execute_result"
    }
   ],
   "source": [
    "# Verify\n",
    "df.dtypes"
   ]
  },
  {
   "cell_type": "markdown",
   "id": "e67e3a0a-1829-40ee-b9b9-cc9bd5ef383b",
   "metadata": {},
   "source": [
    "**Save Data Frame for the Future**:"
   ]
  },
  {
   "cell_type": "code",
   "execution_count": 13,
   "id": "a3e0077d-94fb-4624-b252-f0a12ecd3b79",
   "metadata": {},
   "outputs": [],
   "source": [
    "df.to_parquet('../data/scaled/scaled_data.parquet', index=False)"
   ]
  },
  {
   "cell_type": "markdown",
   "id": "7ab0718f-b565-4c79-897d-e12ca6f63423",
   "metadata": {},
   "source": [
    "# Model Training\n",
    "\n",
    "In this section, we focus on building and training an `AutoEncoder` and `Variational AutoEncoders (VAEs)` model using TensorFlow to detect anomalies in login behavior. Since these are unsupervised learning problems, the models are trained only on legitimate login attempts to learn normal patterns. Once trained, they will be able to identify unusual activities—such as account takeovers—by measuring reconstruction error. We will split the dataset, define and compile the neural network architecture, and evaluate its performance using appropriate metrics. As we are not using scikit-learn, all modeling steps will be done exclusively with TensorFlow and its ecosystem."
   ]
  },
  {
   "cell_type": "markdown",
   "id": "ff3d7688-3771-4ed3-9baf-c8fc42501669",
   "metadata": {},
   "source": [
    "**Prepare the Data for Training**:"
   ]
  },
  {
   "cell_type": "code",
   "execution_count": 14,
   "id": "0d9f913b-a976-46eb-8774-a265d3112f4d",
   "metadata": {},
   "outputs": [],
   "source": [
    "# Load the Dataset\n",
    "df = dd.read_parquet('../data/scaled/')\n",
    "\n",
    "# Normal Data and Anomalous Data\n",
    "normal_data = df[df['is_account_takeover'] == 0]\n",
    "anomalous_data = df[df['is_account_takeover'] == 1]\n",
    "\n",
    "# Test and Train Data\n",
    "train_data = normal_data.sample(frac=0.8, random_state=42)\n",
    "remaining_normal = dd.concat([normal_data, train_data]).drop_duplicates()\n",
    "test_data = dd.concat([remaining_normal, anomalous_data])\n",
    "\n",
    "# Compute\n",
    "train_data = train_data.compute()\n",
    "test_data = test_data.compute()\n",
    "\n",
    "# Train and Test Split\n",
    "X_train = train_data.drop(columns=['is_account_takeover'])\n",
    "X_test = test_data.drop(columns=['is_account_takeover'])\n",
    "y_test = test_data['is_account_takeover'].values"
   ]
  },
  {
   "cell_type": "code",
   "execution_count": 15,
   "id": "769b7e3e-cc4d-4cec-9c7c-a2bdae4747f1",
   "metadata": {},
   "outputs": [
    {
     "name": "stdout",
     "output_type": "stream",
     "text": [
      "Any NaNs? country_code        False\n",
      "device_type         False\n",
      "is_login_success    False\n",
      "is_attack_ip        False\n",
      "login_hours         False\n",
      "login_day           False\n",
      "browser_name        False\n",
      "os_name             False\n",
      "ip_1                False\n",
      "ip_2                False\n",
      "ip_3                False\n",
      "ip_4                False\n",
      "dtype: bool\n",
      "Any Infs? country_code        False\n",
      "device_type         False\n",
      "is_login_success    False\n",
      "is_attack_ip        False\n",
      "login_hours         False\n",
      "login_day           False\n",
      "browser_name        False\n",
      "os_name             False\n",
      "ip_1                False\n",
      "ip_2                False\n",
      "ip_3                False\n",
      "ip_4                False\n",
      "dtype: bool\n",
      "Max value per column:\n",
      " country_code        1.00000\n",
      "device_type         1.00000\n",
      "is_login_success    1.00000\n",
      "is_attack_ip        1.00000\n",
      "login_hours         1.00000\n",
      "login_day           1.00000\n",
      "browser_name        1.00000\n",
      "os_name             1.00000\n",
      "ip_1                0.87451\n",
      "ip_2                1.00000\n",
      "ip_3                1.00000\n",
      "ip_4                1.00000\n",
      "dtype: float32\n",
      "Min value per column:\n",
      " country_code        0.000000\n",
      "device_type         0.000000\n",
      "is_login_success    0.000000\n",
      "is_attack_ip        0.000000\n",
      "login_hours         0.000000\n",
      "login_day           0.000000\n",
      "browser_name        0.000000\n",
      "os_name             0.000000\n",
      "ip_1                0.003922\n",
      "ip_2                0.000000\n",
      "ip_3                0.000000\n",
      "ip_4                0.000000\n",
      "dtype: float32\n"
     ]
    }
   ],
   "source": [
    "# Check for NaNs or Infs in training data\n",
    "print(\"Any NaNs?\", np.isnan(X_train).any())\n",
    "print(\"Any Infs?\", np.isinf(X_train).any())\n",
    "\n",
    "# Also check the ranges\n",
    "print(\"Max value per column:\\n\", X_train.max())\n",
    "print(\"Min value per column:\\n\", X_train.min())"
   ]
  },
  {
   "cell_type": "code",
   "execution_count": 16,
   "id": "64cc3274-6c79-4ce7-b697-cd2c4f7e1386",
   "metadata": {},
   "outputs": [
    {
     "name": "stdout",
     "output_type": "stream",
     "text": [
      "Dropped 10123649 duplicates (40.47%)\n"
     ]
    }
   ],
   "source": [
    "# Drop Duplicates\n",
    "original_len = len(X_train)\n",
    "X_train = X_train.drop_duplicates()\n",
    "new_len = len(X_train)\n",
    "\n",
    "print(f\"Dropped {original_len - new_len} duplicates ({(original_len - new_len)/original_len:.2%})\")"
   ]
  },
  {
   "cell_type": "markdown",
   "id": "4ced476c-970e-4bf6-89b9-a01929d95ee5",
   "metadata": {},
   "source": [
    "Before extracting IP: Dropped 24598798 duplicates (98.34%)\n",
    "\n",
    "After extracting IP: Dropped 10123649 duplicates (40.47%)"
   ]
  },
  {
   "cell_type": "markdown",
   "id": "a1d48933-82ae-416c-b2b9-8d68d58364e7",
   "metadata": {},
   "source": [
    "## AutoEncoder"
   ]
  },
  {
   "cell_type": "code",
   "execution_count": 17,
   "id": "ad5db609-5ee1-4184-a796-949390e13f68",
   "metadata": {},
   "outputs": [
    {
     "name": "stdout",
     "output_type": "stream",
     "text": [
      "Model: \"model\"\n",
      "_________________________________________________________________\n",
      " Layer (type)                Output Shape              Param #   \n",
      "=================================================================\n",
      " input_1 (InputLayer)        [(None, 12)]              0         \n",
      "                                                                 \n",
      " dense (Dense)               (None, 128)               1664      \n",
      "                                                                 \n",
      " batch_normalization (BatchN  (None, 128)              512       \n",
      " ormalization)                                                   \n",
      "                                                                 \n",
      " dense_1 (Dense)             (None, 64)                8256      \n",
      "                                                                 \n",
      " batch_normalization_1 (Batc  (None, 64)               256       \n",
      " hNormalization)                                                 \n",
      "                                                                 \n",
      " dense_2 (Dense)             (None, 32)                2080      \n",
      "                                                                 \n",
      " dense_3 (Dense)             (None, 16)                528       \n",
      "                                                                 \n",
      " dense_6 (Dense)             (None, 128)               2176      \n",
      "                                                                 \n",
      " dense_7 (Dense)             (None, 12)                1548      \n",
      "                                                                 \n",
      "=================================================================\n",
      "Total params: 17,020\n",
      "Trainable params: 16,636\n",
      "Non-trainable params: 384\n",
      "_________________________________________________________________\n"
     ]
    }
   ],
   "source": [
    "# Get input shape\n",
    "input_dim = X_train.shape[1]\n",
    "\n",
    "# Define Input\n",
    "input_layer = Input(shape=(input_dim,))\n",
    "\n",
    "# Encoder\n",
    "encoded = Dense(128, activation='relu')(input_layer)\n",
    "encoded = BatchNormalization()(encoded)\n",
    "encoded = Dense(64, activation='relu')(encoded)\n",
    "encoded = BatchNormalization()(encoded)\n",
    "encoded = Dense(32, activation='relu')(encoded)\n",
    "encoded = Dense(16, activation='relu')(encoded)\n",
    "\n",
    "# Decoder\n",
    "decoded = Dense(32, activation='relu')(encoded)\n",
    "decoded = Dense(64, activation='relu')(encoded)\n",
    "decoded = Dense(128, activation='relu')(encoded)\n",
    "output_layer = Dense(input_dim, activation='sigmoid')(decoded)\n",
    "\n",
    "# Build Model\n",
    "autoencoder = Model(inputs=input_layer, outputs=output_layer)\n",
    "autoencoder.compile(optimizer='adam', loss='mse')\n",
    "\n",
    "# Model Summary\n",
    "autoencoder.summary()"
   ]
  },
  {
   "cell_type": "code",
   "execution_count": 18,
   "id": "c61665c4-ce0a-43b0-8fbe-4eafe404bf47",
   "metadata": {},
   "outputs": [],
   "source": [
    "# Callbacks\n",
    "early_stop = EarlyStopping(monitor='val_loss', patience=8, restore_best_weights=True) # EarlyStop\n",
    "lr_scheduler = ReduceLROnPlateau(monitor='val_loss', factor=0.5, patience=4)"
   ]
  },
  {
   "cell_type": "code",
   "execution_count": 19,
   "id": "86b4e186-1f6b-427a-9ad8-d33ff252a9f5",
   "metadata": {},
   "outputs": [],
   "source": [
    "# While Trying the Model\n",
    "X_small = X_train[:500_000] # Only for testing!"
   ]
  },
  {
   "cell_type": "code",
   "execution_count": 20,
   "id": "53073b1b-afbd-4513-b133-dde4d0fe13cb",
   "metadata": {},
   "outputs": [
    {
     "name": "stdout",
     "output_type": "stream",
     "text": [
      "Epoch 1/100\n",
      "209397/209397 [==============================] - 767s 4ms/step - loss: 4.1514e-04 - val_loss: 4.6126e-05 - lr: 0.0010\n",
      "Epoch 2/100\n",
      "209397/209397 [==============================] - 765s 4ms/step - loss: 1.0981e-04 - val_loss: 8.7252e-05 - lr: 0.0010\n",
      "Epoch 3/100\n",
      "209397/209397 [==============================] - 770s 4ms/step - loss: 8.4387e-05 - val_loss: 5.0592e-05 - lr: 0.0010\n",
      "Epoch 4/100\n",
      "209397/209397 [==============================] - 766s 4ms/step - loss: 7.4311e-05 - val_loss: 7.3781e-05 - lr: 0.0010\n",
      "Epoch 5/100\n",
      "209397/209397 [==============================] - 768s 4ms/step - loss: 7.0119e-05 - val_loss: 3.4140e-05 - lr: 0.0010\n",
      "Epoch 6/100\n",
      "209397/209397 [==============================] - 768s 4ms/step - loss: 4.6775e-05 - val_loss: 1.8313e-05 - lr: 5.0000e-04\n",
      "Epoch 7/100\n",
      "209397/209397 [==============================] - 771s 4ms/step - loss: 4.4904e-05 - val_loss: 2.3447e-05 - lr: 5.0000e-04\n",
      "Epoch 8/100\n",
      "209397/209397 [==============================] - 774s 4ms/step - loss: 4.3965e-05 - val_loss: 4.9574e-05 - lr: 5.0000e-04\n",
      "Epoch 9/100\n",
      "209397/209397 [==============================] - 771s 4ms/step - loss: 4.3212e-05 - val_loss: 2.1922e-05 - lr: 5.0000e-04\n",
      "Epoch 10/100\n",
      "209397/209397 [==============================] - 782s 4ms/step - loss: 3.3896e-05 - val_loss: 1.5230e-05 - lr: 2.5000e-04\n",
      "Epoch 11/100\n",
      "209397/209397 [==============================] - 788s 4ms/step - loss: 3.3057e-05 - val_loss: 1.1951e-05 - lr: 2.5000e-04\n",
      "Epoch 12/100\n",
      "209397/209397 [==============================] - 778s 4ms/step - loss: 3.2695e-05 - val_loss: 5.2259e-05 - lr: 2.5000e-04\n",
      "Epoch 13/100\n",
      "209397/209397 [==============================] - 780s 4ms/step - loss: 3.2185e-05 - val_loss: 1.2076e-05 - lr: 2.5000e-04\n",
      "Epoch 14/100\n",
      "209397/209397 [==============================] - 777s 4ms/step - loss: 2.7936e-05 - val_loss: 1.2567e-05 - lr: 1.2500e-04\n",
      "Epoch 15/100\n",
      "209397/209397 [==============================] - 780s 4ms/step - loss: 2.7590e-05 - val_loss: 1.0709e-05 - lr: 1.2500e-04\n",
      "Epoch 16/100\n",
      "209397/209397 [==============================] - 779s 4ms/step - loss: 2.7280e-05 - val_loss: 1.0959e-05 - lr: 1.2500e-04\n",
      "Epoch 17/100\n",
      "209397/209397 [==============================] - 781s 4ms/step - loss: 2.7144e-05 - val_loss: 9.2890e-06 - lr: 1.2500e-04\n",
      "Epoch 18/100\n",
      "209397/209397 [==============================] - 780s 4ms/step - loss: 2.5055e-05 - val_loss: 1.1019e-05 - lr: 6.2500e-05\n",
      "Epoch 19/100\n",
      "209397/209397 [==============================] - 787s 4ms/step - loss: 2.4880e-05 - val_loss: 9.4029e-06 - lr: 6.2500e-05\n",
      "Epoch 20/100\n",
      "209397/209397 [==============================] - 800s 4ms/step - loss: 2.4739e-05 - val_loss: 8.8965e-06 - lr: 6.2500e-05\n",
      "Epoch 21/100\n",
      "209397/209397 [==============================] - 787s 4ms/step - loss: 2.4606e-05 - val_loss: 1.1181e-05 - lr: 6.2500e-05\n",
      "Epoch 22/100\n",
      "209397/209397 [==============================] - 785s 4ms/step - loss: 2.3496e-05 - val_loss: 8.7581e-06 - lr: 3.1250e-05\n",
      "Epoch 23/100\n",
      "209397/209397 [==============================] - 788s 4ms/step - loss: 2.3359e-05 - val_loss: 7.9886e-06 - lr: 3.1250e-05\n",
      "Epoch 24/100\n",
      "209397/209397 [==============================] - 786s 4ms/step - loss: 2.3374e-05 - val_loss: 9.5786e-06 - lr: 3.1250e-05\n",
      "Epoch 25/100\n",
      "209397/209397 [==============================] - 783s 4ms/step - loss: 2.3215e-05 - val_loss: 8.4833e-06 - lr: 3.1250e-05\n",
      "Epoch 26/100\n",
      "209397/209397 [==============================] - 787s 4ms/step - loss: 2.2654e-05 - val_loss: 8.5834e-06 - lr: 1.5625e-05\n",
      "Epoch 27/100\n",
      "209397/209397 [==============================] - 786s 4ms/step - loss: 2.2639e-05 - val_loss: 8.8432e-06 - lr: 1.5625e-05\n",
      "Epoch 28/100\n",
      "209397/209397 [==============================] - 776s 4ms/step - loss: 2.2642e-05 - val_loss: 1.0093e-05 - lr: 1.5625e-05\n",
      "Epoch 29/100\n",
      "209397/209397 [==============================] - 621s 3ms/step - loss: 2.2608e-05 - val_loss: 8.4854e-06 - lr: 1.5625e-05\n",
      "Epoch 30/100\n",
      "209397/209397 [==============================] - 627s 3ms/step - loss: 2.2302e-05 - val_loss: 8.3993e-06 - lr: 7.8125e-06\n",
      "Epoch 31/100\n",
      "209397/209397 [==============================] - 616s 3ms/step - loss: 2.2284e-05 - val_loss: 8.1089e-06 - lr: 7.8125e-06\n",
      "CPU times: total: 7h 38min 55s\n",
      "Wall time: 6h 34min 35s\n"
     ]
    }
   ],
   "source": [
    "%%time\n",
    "\n",
    "# Train the model\n",
    "history = autoencoder.fit(\n",
    "    X_train, X_train,\n",
    "    epochs=100,\n",
    "    batch_size=64,\n",
    "    validation_split=0.1,\n",
    "    shuffle=True,\n",
    "    callbacks=[early_stop, lr_scheduler]\n",
    ")"
   ]
  },
  {
   "cell_type": "markdown",
   "id": "774509ea-21fe-4c38-b335-9c8d2074c505",
   "metadata": {},
   "source": [
    "**Evaluation**:"
   ]
  },
  {
   "cell_type": "code",
   "execution_count": 21,
   "id": "b1b0c012-97c8-4b08-99b0-0cab587639dd",
   "metadata": {},
   "outputs": [
    {
     "name": "stdout",
     "output_type": "stream",
     "text": [
      "553242/553242 [==============================] - 505s 911us/step\n"
     ]
    }
   ],
   "source": [
    "X_test_pred = autoencoder.predict(X_test)\n",
    "mse = np.mean(np.power(X_test - X_test_pred, 2), axis=1)"
   ]
  },
  {
   "cell_type": "code",
   "execution_count": 22,
   "id": "cf861068-1b57-402d-9d93-f0b38acb714d",
   "metadata": {},
   "outputs": [
    {
     "data": {
      "image/png": "[encoded data removed]",
      "text/plain": [
       "<Figure size 640x480 with 1 Axes>"
      ]
     },
     "metadata": {},
     "output_type": "display_data"
    }
   ],
   "source": [
    "sns.histplot(mse[y_test == 0], color='blue', label='Normal', bins=100, stat='density')\n",
    "sns.histplot(mse[y_test == 1], color='red', label='Anomaly', bins=100, stat='density')\n",
    "plt.legend()\n",
    "plt.title(\"Reconstruction Error Distribution\")\n",
    "plt.show()"
   ]
  },
  {
   "cell_type": "code",
   "execution_count": 32,
   "id": "9f95bfba-796b-42d8-95a3-91772bb3dd27",
   "metadata": {},
   "outputs": [],
   "source": [
    "threshold = np.percentile(mse[y_test == 0], 95)"
   ]
  },
  {
   "cell_type": "code",
   "execution_count": 33,
   "id": "1ab935fb-04e2-4682-8680-70ead9665424",
   "metadata": {},
   "outputs": [],
   "source": [
    "y_pred = (mse > threshold).astype(int)"
   ]
  },
  {
   "cell_type": "code",
   "execution_count": 34,
   "id": "b9012ce4-50d5-4923-a655-b5074a538214",
   "metadata": {},
   "outputs": [
    {
     "name": "stdout",
     "output_type": "stream",
     "text": [
      "[[16818421   885180]\n",
      " [      70       71]]\n",
      "              precision    recall  f1-score   support\n",
      "\n",
      "           0       1.00      0.95      0.97  17703601\n",
      "           1       0.00      0.50      0.00       141\n",
      "\n",
      "    accuracy                           0.95  17703742\n",
      "   macro avg       0.50      0.73      0.49  17703742\n",
      "weighted avg       1.00      0.95      0.97  17703742\n",
      "\n"
     ]
    }
   ],
   "source": [
    "print(confusion_matrix(y_test, y_pred))\n",
    "print(classification_report(y_test, y_pred))"
   ]
  },
  {
   "cell_type": "markdown",
   "id": "13c35f01-38f5-4d35-a6ea-9e4f010da875",
   "metadata": {},
   "source": [
    "**Before Extracting IP**:\n",
    "\n",
    "[[14328508, 754132], [138, 3]]\n",
    "\n",
    "\n",
    "| Class            | Precision | Recall | F1-score | Support    |\n",
    "| ---------------- | --------- | ------ | -------- | ---------- |\n",
    "| **0**            | 1.00      | 0.95   | 0.97     | 15,082,640 |\n",
    "| **1**            | 0.00      | 0.02   | 0.00     | 141        |\n",
    "| **Accuracy**     |           |        | 0.95     | 15,082,781 |\n",
    "| **Macro avg**    | 0.50      | 0.49   | 0.49     | 15,082,781 |\n",
    "| **Weighted avg** | 1.00      | 0.95   | 0.97     | 15,082,781 |"
   ]
  },
  {
   "cell_type": "markdown",
   "id": "8486bf38-2734-4136-bff8-cf1753c8e183",
   "metadata": {},
   "source": [
    "**Save the Model**:"
   ]
  },
  {
   "cell_type": "code",
   "execution_count": 35,
   "id": "724ab75a-bcbd-4812-b9c6-fd2be6ac64bf",
   "metadata": {},
   "outputs": [],
   "source": [
    "autoencoder.save(\"../models/autoencoder_ip_model.h5\")"
   ]
  },
  {
   "cell_type": "markdown",
   "id": "3767f27f-3c87-49fa-a78a-0fb9e23c0cff",
   "metadata": {},
   "source": [
    "**06/07/2025**: After extensive experimentation with the RBA dataset, we built and trained a well-structured AutoEncoder using MinMax-scaled inputs and proper regularization techniques (batch normalization, learning rate scheduling, etc.). Despite achieving very low reconstruction loss (~1e-5), the model initially failed to differentiate between normal and anomalous login attempts, largely due to extremely high data redundancy — over 24.5 million duplicate entries were found among the 25 million training samples. After removing duplicates, the model’s ability to generalize improved, resulting in a moderate increase in anomaly recall (up to 2%) and clearer separation in the reconstruction error histogram. This highlights a crucial limitation: **AutoEncoders cannot detect subtle behavioral anomalies unless the dataset includes user-specific patterns**. Without features such as user identifiers or historical behavior, login data appears structurally similar across both normal and malicious samples. Future work will involve experimenting with Denoising AutoEncoders and potentially pre-trained models from TensorFlow Hub, as well as reintroducing unique identifiers like IP addresses to model behavior over time. Overall, while the current setup performs as expected under the constraints, **true anomaly detection will require behavior-aware features**.\n",
    "\n",
    "**07/07/2025**: Following our earlier analysis and experimentation, we introduced IP address octet features as behavioral indicators in the RBA dataset. By splitting the IP address into four normalized components (each octet / 255), we enabled the AutoEncoder to capture spatial differences in login sources. This adjustment led to a significant improvement in anomaly detection performance — recall increased from 2% to 50%, confirming that even minimal behavioral context (like IP structure) can strongly influence reconstruction error patterns. While false positives remained high due to threshold sensitivity, this trade-off is expected in high-imbalance settings. These results validate that **AutoEncoders, when combined with subtle contextual signals like IP octets, can detect behavioral anomalies more effectively**, even without explicit user identifiers. \n",
    "\n",
    "At this stage, we have pushed the dataset and the unsupervised approach to its practical limits. Future improvements may come from:\n",
    "- Introducing Denoising AutoEncoders to enhance generalization,\n",
    "- Exploring temporal or frequency-based features (e.g., IP reuse, login velocity),\n",
    "- Or reframing the problem with supervised or semi-supervised models, if reliable labeled data becomes available.\n",
    "\n",
    "In conclusion, the project demonstrates that even in a highly imbalanced, label-scarce environment, **clever feature engineering rooted in behavioral patterns can unlock meaningful anomaly detection performance.**"
   ]
  }
 ],
 "metadata": {
  "kernelspec": {
   "display_name": "Python 3 (ipykernel)",
   "language": "python",
   "name": "python3"
  },
  "language_info": {
   "codemirror_mode": {
    "name": "ipython",
    "version": 3
   },
   "file_extension": ".py",
   "mimetype": "text/x-python",
   "name": "python",
   "nbconvert_exporter": "python",
   "pygments_lexer": "ipython3",
   "version": "3.10.0"
  }
 },
 "nbformat": 4,
 "nbformat_minor": 5
}
