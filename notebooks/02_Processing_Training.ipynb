{
 "cells": [
  {
   "cell_type": "markdown",
   "id": "da4bdb66-c8ca-47fa-832a-3df7ef7ca3a3",
   "metadata": {},
   "source": [
    "# Preprocessing\n",
    "\n",
    "In this section, we will prepare the dataset for anomaly detection using neural networks in TensorFlow. Since we’re planning to use AutoEncoders and other deep learning models, we will avoid one-hot encoding to reduce dimensionality and instead apply label encoding for categorical features.\n",
    "\n",
    "Here's a summary of the preprocessing steps:\n",
    "- **Country Code**: With over 229 unique values, we will apply **label encoding** to represent countries numerically. One-hot encoding would significantly increase the feature space, which is not optimal for neural networks.\n",
    "- **Device Type**: This has a limited number of categories and will also be **label encoded**.\n",
    "- **Boolean Features** (`is_login_success`, `is_attack_ip`, `is_account_takeover`): These will be converted to integers — `False` as `0` and `True` as `1`.\n",
    "- **Browser Name** and **Operating System Name**: These categorical features will be **label encoded** as well. One-hot encoding is unnecessary here, given our modeling choice.\n",
    "\n",
    "This encoding strategy is compact and well-suited for TensorFlow models, ensuring that our AutoEncoder and any other anomaly detection algorithms can efficiently process the input features."
   ]
  },
  {
   "cell_type": "code",
   "execution_count": 25,
   "id": "860738e3-6c51-44c2-a43a-3fd2a62866ca",
   "metadata": {},
   "outputs": [],
   "source": [
    "# General purpose\n",
    "import numpy as np\n",
    "import pandas as pd\n",
    "\n",
    "# Dask for handling large datasets\n",
    "import dask.dataframe as dd\n",
    "\n",
    "# Encoding\n",
    "from sklearn.preprocessing import LabelEncoder\n",
    "\n",
    "# Scaling\n",
    "from sklearn.preprocessing import MinMaxScaler\n",
    "\n",
    "# TensorFlow for model building\n",
    "import tensorflow as tf\n",
    "from tensorflow.keras.models import Model\n",
    "from tensorflow.keras.layers import Input, Dense\n",
    "from tensorflow.keras import regularizers\n",
    "from tensorflow.keras.callbacks import EarlyStopping\n",
    "\n",
    "# Evaluation\n",
    "from sklearn.metrics import classification_report, confusion_matrix\n",
    "\n",
    "# Visualization\n",
    "import matplotlib.pyplot as plt\n",
    "import seaborn as sns\n",
    "\n",
    "# System and warnings\n",
    "import os\n",
    "import warnings\n",
    "warnings.filterwarnings('ignore')\n",
    "\n",
    "# Time\n",
    "import time"
   ]
  },
  {
   "cell_type": "code",
   "execution_count": 2,
   "id": "081cfd9b-0d91-419e-a35c-147d77a6cf47",
   "metadata": {},
   "outputs": [],
   "source": [
    "# Step 1: Load partitioned CSVs\n",
    "df = dd.read_csv('../data/processed/*.part')\n",
    "\n",
    "# Step 2: Drop index early\n",
    "df = df.reset_index(drop=True)\n",
    "\n",
    "# Step 3: Optional — check for duplicate column names (only if you're unsure)\n",
    "assert df.columns.duplicated().sum() == 0, \"You have duplicate column names!\"\n",
    "\n",
    "# Step 4: Compute it into memory\n",
    "df = df.compute()"
   ]
  },
  {
   "cell_type": "code",
   "execution_count": 3,
   "id": "7312efdd-b260-46e7-b468-3e7ad2011868",
   "metadata": {},
   "outputs": [
    {
     "data": {
      "text/plain": [
       "user_id                          int64\n",
       "country_code           string[pyarrow]\n",
       "asn                              int64\n",
       "device_type            string[pyarrow]\n",
       "is_login_success                  bool\n",
       "is_attack_ip                      bool\n",
       "is_account_takeover               bool\n",
       "login_hours                      int64\n",
       "login_day                        int64\n",
       "browser_name           string[pyarrow]\n",
       "os_name                string[pyarrow]\n",
       "dtype: object"
      ]
     },
     "execution_count": 3,
     "metadata": {},
     "output_type": "execute_result"
    }
   ],
   "source": [
    "df.dtypes"
   ]
  },
  {
   "cell_type": "markdown",
   "id": "c435ceff-09d0-4998-8fdc-71643703c4f8",
   "metadata": {},
   "source": [
    "**Encoding the Columns**:"
   ]
  },
  {
   "cell_type": "code",
   "execution_count": 4,
   "id": "ca87a29d-901f-4137-8369-a80573157d52",
   "metadata": {},
   "outputs": [],
   "source": [
    "# Columns to encode\n",
    "cols_to_encode = ['country_code', 'device_type', 'browser_name', 'os_name']\n",
    "\n",
    "# Store encoders\n",
    "encoders = {}\n",
    "\n",
    "# Encode each columns\n",
    "for col in cols_to_encode:\n",
    "    le = LabelEncoder()\n",
    "    df[col] = df[col] = le.fit_transform(df[col].astype(str))\n",
    "    encoders[col] = le \n",
    "\n",
    "# Boolean columns\n",
    "bool_cols = ['is_login_success', 'is_attack_ip', 'is_account_takeover']\n",
    "for col in bool_cols:\n",
    "    df[col] = df[col].astype(int)"
   ]
  },
  {
   "cell_type": "code",
   "execution_count": 5,
   "id": "86f035f4-ac9c-4b92-b376-0c577c49d65e",
   "metadata": {},
   "outputs": [
    {
     "data": {
      "text/plain": [
       "user_id                int64\n",
       "country_code           int32\n",
       "asn                    int64\n",
       "device_type            int32\n",
       "is_login_success       int32\n",
       "is_attack_ip           int32\n",
       "is_account_takeover    int32\n",
       "login_hours            int64\n",
       "login_day              int64\n",
       "browser_name           int32\n",
       "os_name                int32\n",
       "dtype: object"
      ]
     },
     "execution_count": 5,
     "metadata": {},
     "output_type": "execute_result"
    }
   ],
   "source": [
    "# Verify Encoding\n",
    "df.dtypes"
   ]
  },
  {
   "cell_type": "code",
   "execution_count": 6,
   "id": "de9e30c3-25f7-4ca8-bce1-09128130e9b8",
   "metadata": {},
   "outputs": [
    {
     "data": {
      "text/html": [
       "<div>\n",
       "<style scoped>\n",
       "    .dataframe tbody tr th:only-of-type {\n",
       "        vertical-align: middle;\n",
       "    }\n",
       "\n",
       "    .dataframe tbody tr th {\n",
       "        vertical-align: top;\n",
       "    }\n",
       "\n",
       "    .dataframe thead th {\n",
       "        text-align: right;\n",
       "    }\n",
       "</style>\n",
       "<table border=\"1\" class=\"dataframe\">\n",
       "  <thead>\n",
       "    <tr style=\"text-align: right;\">\n",
       "      <th></th>\n",
       "      <th>user_id</th>\n",
       "      <th>country_code</th>\n",
       "      <th>asn</th>\n",
       "      <th>device_type</th>\n",
       "      <th>is_login_success</th>\n",
       "      <th>is_attack_ip</th>\n",
       "      <th>is_account_takeover</th>\n",
       "      <th>login_hours</th>\n",
       "      <th>login_day</th>\n",
       "      <th>browser_name</th>\n",
       "      <th>os_name</th>\n",
       "    </tr>\n",
       "  </thead>\n",
       "  <tbody>\n",
       "    <tr>\n",
       "      <th>0</th>\n",
       "      <td>-4324475583306591935</td>\n",
       "      <td>153</td>\n",
       "      <td>29695</td>\n",
       "      <td>2</td>\n",
       "      <td>0</td>\n",
       "      <td>0</td>\n",
       "      <td>0</td>\n",
       "      <td>12</td>\n",
       "      <td>0</td>\n",
       "      <td>46</td>\n",
       "      <td>43</td>\n",
       "    </tr>\n",
       "    <tr>\n",
       "      <th>1</th>\n",
       "      <td>-4324475583306591935</td>\n",
       "      <td>11</td>\n",
       "      <td>60117</td>\n",
       "      <td>2</td>\n",
       "      <td>0</td>\n",
       "      <td>0</td>\n",
       "      <td>0</td>\n",
       "      <td>12</td>\n",
       "      <td>0</td>\n",
       "      <td>24</td>\n",
       "      <td>0</td>\n",
       "    </tr>\n",
       "    <tr>\n",
       "      <th>2</th>\n",
       "      <td>-3284137479262433373</td>\n",
       "      <td>153</td>\n",
       "      <td>29695</td>\n",
       "      <td>2</td>\n",
       "      <td>1</td>\n",
       "      <td>0</td>\n",
       "      <td>0</td>\n",
       "      <td>12</td>\n",
       "      <td>0</td>\n",
       "      <td>5</td>\n",
       "      <td>43</td>\n",
       "    </tr>\n",
       "    <tr>\n",
       "      <th>3</th>\n",
       "      <td>-4324475583306591935</td>\n",
       "      <td>211</td>\n",
       "      <td>393398</td>\n",
       "      <td>2</td>\n",
       "      <td>0</td>\n",
       "      <td>0</td>\n",
       "      <td>0</td>\n",
       "      <td>12</td>\n",
       "      <td>0</td>\n",
       "      <td>25</td>\n",
       "      <td>0</td>\n",
       "    </tr>\n",
       "    <tr>\n",
       "      <th>4</th>\n",
       "      <td>-4618854071942621186</td>\n",
       "      <td>211</td>\n",
       "      <td>398986</td>\n",
       "      <td>2</td>\n",
       "      <td>0</td>\n",
       "      <td>1</td>\n",
       "      <td>0</td>\n",
       "      <td>12</td>\n",
       "      <td>0</td>\n",
       "      <td>25</td>\n",
       "      <td>0</td>\n",
       "    </tr>\n",
       "  </tbody>\n",
       "</table>\n",
       "</div>"
      ],
      "text/plain": [
       "               user_id  country_code     asn  device_type  is_login_success  \\\n",
       "0 -4324475583306591935           153   29695            2                 0   \n",
       "1 -4324475583306591935            11   60117            2                 0   \n",
       "2 -3284137479262433373           153   29695            2                 1   \n",
       "3 -4324475583306591935           211  393398            2                 0   \n",
       "4 -4618854071942621186           211  398986            2                 0   \n",
       "\n",
       "   is_attack_ip  is_account_takeover  login_hours  login_day  browser_name  \\\n",
       "0             0                    0           12          0            46   \n",
       "1             0                    0           12          0            24   \n",
       "2             0                    0           12          0             5   \n",
       "3             0                    0           12          0            25   \n",
       "4             1                    0           12          0            25   \n",
       "\n",
       "   os_name  \n",
       "0       43  \n",
       "1        0  \n",
       "2       43  \n",
       "3        0  \n",
       "4        0  "
      ]
     },
     "execution_count": 6,
     "metadata": {},
     "output_type": "execute_result"
    }
   ],
   "source": [
    "df.head()"
   ]
  },
  {
   "cell_type": "markdown",
   "id": "2a6c13f5-4155-41fd-95eb-f66fa9c65489",
   "metadata": {},
   "source": [
    "**Scale the Columns with `MinMaxScaler`**:"
   ]
  },
  {
   "cell_type": "code",
   "execution_count": 7,
   "id": "fdcb978a-10e4-4b26-9b6f-e7466d5dc50f",
   "metadata": {},
   "outputs": [],
   "source": [
    "# Columns to scale\n",
    "cols_to_scale = [\n",
    "    'country_code', 'device_type',\n",
    "    'is_login_success', 'is_attack_ip',\n",
    "    'login_hours', 'login_day',\n",
    "    'browser_name', 'os_name'\n",
    "]\n",
    "\n",
    "# Initialize scaler\n",
    "scaler = MinMaxScaler()\n",
    "\n",
    "# Fit and transform\n",
    "df[cols_to_scale] = scaler.fit_transform(df[cols_to_scale])"
   ]
  },
  {
   "cell_type": "code",
   "execution_count": 8,
   "id": "3c055559-ccf2-4ce0-bf6d-be19ca975d91",
   "metadata": {},
   "outputs": [
    {
     "data": {
      "text/html": [
       "<div>\n",
       "<style scoped>\n",
       "    .dataframe tbody tr th:only-of-type {\n",
       "        vertical-align: middle;\n",
       "    }\n",
       "\n",
       "    .dataframe tbody tr th {\n",
       "        vertical-align: top;\n",
       "    }\n",
       "\n",
       "    .dataframe thead th {\n",
       "        text-align: right;\n",
       "    }\n",
       "</style>\n",
       "<table border=\"1\" class=\"dataframe\">\n",
       "  <thead>\n",
       "    <tr style=\"text-align: right;\">\n",
       "      <th></th>\n",
       "      <th>user_id</th>\n",
       "      <th>country_code</th>\n",
       "      <th>asn</th>\n",
       "      <th>device_type</th>\n",
       "      <th>is_login_success</th>\n",
       "      <th>is_attack_ip</th>\n",
       "      <th>is_account_takeover</th>\n",
       "      <th>login_hours</th>\n",
       "      <th>login_day</th>\n",
       "      <th>browser_name</th>\n",
       "      <th>os_name</th>\n",
       "    </tr>\n",
       "  </thead>\n",
       "  <tbody>\n",
       "    <tr>\n",
       "      <th>0</th>\n",
       "      <td>-4324475583306591935</td>\n",
       "      <td>0.671053</td>\n",
       "      <td>29695</td>\n",
       "      <td>0.5</td>\n",
       "      <td>0.0</td>\n",
       "      <td>0.0</td>\n",
       "      <td>0</td>\n",
       "      <td>0.521739</td>\n",
       "      <td>0.0</td>\n",
       "      <td>0.237113</td>\n",
       "      <td>0.977273</td>\n",
       "    </tr>\n",
       "    <tr>\n",
       "      <th>1</th>\n",
       "      <td>-4324475583306591935</td>\n",
       "      <td>0.048246</td>\n",
       "      <td>60117</td>\n",
       "      <td>0.5</td>\n",
       "      <td>0.0</td>\n",
       "      <td>0.0</td>\n",
       "      <td>0</td>\n",
       "      <td>0.521739</td>\n",
       "      <td>0.0</td>\n",
       "      <td>0.123711</td>\n",
       "      <td>0.000000</td>\n",
       "    </tr>\n",
       "    <tr>\n",
       "      <th>2</th>\n",
       "      <td>-3284137479262433373</td>\n",
       "      <td>0.671053</td>\n",
       "      <td>29695</td>\n",
       "      <td>0.5</td>\n",
       "      <td>1.0</td>\n",
       "      <td>0.0</td>\n",
       "      <td>0</td>\n",
       "      <td>0.521739</td>\n",
       "      <td>0.0</td>\n",
       "      <td>0.025773</td>\n",
       "      <td>0.977273</td>\n",
       "    </tr>\n",
       "    <tr>\n",
       "      <th>3</th>\n",
       "      <td>-4324475583306591935</td>\n",
       "      <td>0.925439</td>\n",
       "      <td>393398</td>\n",
       "      <td>0.5</td>\n",
       "      <td>0.0</td>\n",
       "      <td>0.0</td>\n",
       "      <td>0</td>\n",
       "      <td>0.521739</td>\n",
       "      <td>0.0</td>\n",
       "      <td>0.128866</td>\n",
       "      <td>0.000000</td>\n",
       "    </tr>\n",
       "    <tr>\n",
       "      <th>4</th>\n",
       "      <td>-4618854071942621186</td>\n",
       "      <td>0.925439</td>\n",
       "      <td>398986</td>\n",
       "      <td>0.5</td>\n",
       "      <td>0.0</td>\n",
       "      <td>1.0</td>\n",
       "      <td>0</td>\n",
       "      <td>0.521739</td>\n",
       "      <td>0.0</td>\n",
       "      <td>0.128866</td>\n",
       "      <td>0.000000</td>\n",
       "    </tr>\n",
       "  </tbody>\n",
       "</table>\n",
       "</div>"
      ],
      "text/plain": [
       "               user_id  country_code     asn  device_type  is_login_success  \\\n",
       "0 -4324475583306591935      0.671053   29695          0.5               0.0   \n",
       "1 -4324475583306591935      0.048246   60117          0.5               0.0   \n",
       "2 -3284137479262433373      0.671053   29695          0.5               1.0   \n",
       "3 -4324475583306591935      0.925439  393398          0.5               0.0   \n",
       "4 -4618854071942621186      0.925439  398986          0.5               0.0   \n",
       "\n",
       "   is_attack_ip  is_account_takeover  login_hours  login_day  browser_name  \\\n",
       "0           0.0                    0     0.521739        0.0      0.237113   \n",
       "1           0.0                    0     0.521739        0.0      0.123711   \n",
       "2           0.0                    0     0.521739        0.0      0.025773   \n",
       "3           0.0                    0     0.521739        0.0      0.128866   \n",
       "4           1.0                    0     0.521739        0.0      0.128866   \n",
       "\n",
       "    os_name  \n",
       "0  0.977273  \n",
       "1  0.000000  \n",
       "2  0.977273  \n",
       "3  0.000000  \n",
       "4  0.000000  "
      ]
     },
     "execution_count": 8,
     "metadata": {},
     "output_type": "execute_result"
    }
   ],
   "source": [
    "df.head()"
   ]
  },
  {
   "cell_type": "code",
   "execution_count": 9,
   "id": "1e11067b-812e-4b13-bd31-b79e2a53df94",
   "metadata": {},
   "outputs": [
    {
     "data": {
      "text/plain": [
       "user_id                  int64\n",
       "country_code           float64\n",
       "asn                      int64\n",
       "device_type            float64\n",
       "is_login_success       float64\n",
       "is_attack_ip           float64\n",
       "is_account_takeover      int32\n",
       "login_hours            float64\n",
       "login_day              float64\n",
       "browser_name           float64\n",
       "os_name                float64\n",
       "dtype: object"
      ]
     },
     "execution_count": 9,
     "metadata": {},
     "output_type": "execute_result"
    }
   ],
   "source": [
    "df.dtypes"
   ]
  },
  {
   "cell_type": "markdown",
   "id": "ed11dfe2-48fe-429d-b5fb-fcdf506830ec",
   "metadata": {},
   "source": [
    "**Type Casting**:"
   ]
  },
  {
   "cell_type": "code",
   "execution_count": 10,
   "id": "35edbbf3-0bcf-40ca-a9b2-7626dd59044d",
   "metadata": {},
   "outputs": [
    {
     "name": "stdout",
     "output_type": "stream",
     "text": [
      "country_code: min = 0.0, max = 1.0\n",
      "device_type: min = 0.0, max = 1.0\n",
      "login_hours: min = 0.0, max = 1.0\n",
      "login_day: min = 0.0, max = 1.0\n",
      "browser_name: min = 0.0, max = 1.0\n",
      "os_name: min = 0.0, max = 1.0\n",
      "user_id: min = -9223371191532286299, max = 9223358976525004362\n",
      "asn: min = 12, max = 507727\n"
     ]
    }
   ],
   "source": [
    "columns_to_check = ['country_code', 'device_type', 'login_hours', 'login_day', 'browser_name', 'os_name', 'user_id', 'asn']\n",
    "\n",
    "for col in columns_to_check:\n",
    "    min_val = df[col].min()\n",
    "    max_val = df[col].max()\n",
    "    print(f\"{col}: min = {min_val}, max = {max_val}\")"
   ]
  },
  {
   "cell_type": "code",
   "execution_count": 11,
   "id": "47fa852f-60a8-474e-b1a9-8abfbf71be9a",
   "metadata": {},
   "outputs": [],
   "source": [
    "# Type casting for memory efficiency\n",
    "df['country_code'] = df['country_code'].astype(np.float32)\n",
    "df['device_type'] = df['device_type'].astype(np.float32)\n",
    "df['is_login_success'] = df['is_login_success'].astype(np.float32)\n",
    "df['is_attack_ip'] = df['is_attack_ip'].astype(np.float32)\n",
    "df['login_hours'] = df['login_hours'].astype(np.float32)\n",
    "df['login_day'] = df['login_day'].astype(np.float32)\n",
    "df['browser_name'] = df['browser_name'].astype(np.float32)\n",
    "df['os_name'] = df['os_name'].astype(np.float32)\n",
    "\n",
    "# Cast other relevant columns\n",
    "df['asn'] = df['asn'].astype(np.uint32)\n",
    "df['is_account_takeover'] = df['is_account_takeover'].astype(np.uint8)"
   ]
  },
  {
   "cell_type": "code",
   "execution_count": 12,
   "id": "e1dc94f4-4f45-4af2-ad2b-a20f26e58099",
   "metadata": {},
   "outputs": [
    {
     "data": {
      "text/plain": [
       "user_id                  int64\n",
       "country_code           float32\n",
       "asn                     uint32\n",
       "device_type            float32\n",
       "is_login_success       float32\n",
       "is_attack_ip           float32\n",
       "is_account_takeover      uint8\n",
       "login_hours            float32\n",
       "login_day              float32\n",
       "browser_name           float32\n",
       "os_name                float32\n",
       "dtype: object"
      ]
     },
     "execution_count": 12,
     "metadata": {},
     "output_type": "execute_result"
    }
   ],
   "source": [
    "# Verify\n",
    "df.dtypes"
   ]
  },
  {
   "cell_type": "markdown",
   "id": "e67e3a0a-1829-40ee-b9b9-cc9bd5ef383b",
   "metadata": {},
   "source": [
    "**Save Data Frame for the Future**:"
   ]
  },
  {
   "cell_type": "code",
   "execution_count": 13,
   "id": "a3e0077d-94fb-4624-b252-f0a12ecd3b79",
   "metadata": {},
   "outputs": [],
   "source": [
    "df.to_parquet('../data/scaled/scaled_data.parquet', index=False)"
   ]
  },
  {
   "cell_type": "markdown",
   "id": "7ab0718f-b565-4c79-897d-e12ca6f63423",
   "metadata": {},
   "source": [
    "# Model Training\n",
    "\n",
    "In this section, we focus on building and training an `AutoEncoder` and `Variational AutoEncoders (VAEs)` model using TensorFlow to detect anomalies in login behavior. Since these are unsupervised learning problems, the models are trained only on legitimate login attempts to learn normal patterns. Once trained, they will be able to identify unusual activities—such as account takeovers—by measuring reconstruction error. We will split the dataset, define and compile the neural network architecture, and evaluate its performance using appropriate metrics. As we are not using scikit-learn, all modeling steps will be done exclusively with TensorFlow and its ecosystem."
   ]
  },
  {
   "cell_type": "markdown",
   "id": "ff3d7688-3771-4ed3-9baf-c8fc42501669",
   "metadata": {},
   "source": [
    "**Prepare the Data for Training**:"
   ]
  },
  {
   "cell_type": "code",
   "execution_count": 14,
   "id": "0d9f913b-a976-46eb-8774-a265d3112f4d",
   "metadata": {},
   "outputs": [],
   "source": [
    "# Load the Dataset\n",
    "df = dd.read_parquet('../data/scaled/')\n",
    "\n",
    "# Normal Data and Anomalous Data\n",
    "normal_data = df[df['is_account_takeover'] == 0]\n",
    "anomalous_data = df[df['is_account_takeover'] == 1]\n",
    "\n",
    "# Test and Train Data\n",
    "train_data = normal_data.sample(frac=0.8, random_state=42)\n",
    "remaining_normal = dd.concat([normal_data, train_data]).drop_duplicates()\n",
    "test_data = dd.concat([remaining_normal, anomalous_data])\n",
    "\n",
    "# Compute\n",
    "train_data = train_data.compute()\n",
    "test_data = test_data.compute()\n",
    "\n",
    "# Train and Test Split\n",
    "X_train = train_data.drop(columns=['is_account_takeover', 'user_id', 'asn'])\n",
    "X_test = test_data.drop(columns=['is_account_takeover', 'user_id', 'asn'])\n",
    "y_test = test_data['is_account_takeover'].values"
   ]
  },
  {
   "cell_type": "code",
   "execution_count": 15,
   "id": "769b7e3e-cc4d-4cec-9c7c-a2bdae4747f1",
   "metadata": {},
   "outputs": [
    {
     "name": "stdout",
     "output_type": "stream",
     "text": [
      "Any NaNs? country_code        False\n",
      "device_type         False\n",
      "is_login_success    False\n",
      "is_attack_ip        False\n",
      "login_hours         False\n",
      "login_day           False\n",
      "browser_name        False\n",
      "os_name             False\n",
      "dtype: bool\n",
      "Any Infs? country_code        False\n",
      "device_type         False\n",
      "is_login_success    False\n",
      "is_attack_ip        False\n",
      "login_hours         False\n",
      "login_day           False\n",
      "browser_name        False\n",
      "os_name             False\n",
      "dtype: bool\n",
      "Max value per column:\n",
      " country_code        1.0\n",
      "device_type         1.0\n",
      "is_login_success    1.0\n",
      "is_attack_ip        1.0\n",
      "login_hours         1.0\n",
      "login_day           1.0\n",
      "browser_name        1.0\n",
      "os_name             1.0\n",
      "dtype: float32\n",
      "Min value per column:\n",
      " country_code        0.0\n",
      "device_type         0.0\n",
      "is_login_success    0.0\n",
      "is_attack_ip        0.0\n",
      "login_hours         0.0\n",
      "login_day           0.0\n",
      "browser_name        0.0\n",
      "os_name             0.0\n",
      "dtype: float32\n"
     ]
    }
   ],
   "source": [
    "# Check for NaNs or Infs in training data\n",
    "print(\"Any NaNs?\", np.isnan(X_train).any())\n",
    "print(\"Any Infs?\", np.isinf(X_train).any())\n",
    "\n",
    "# Also check the ranges\n",
    "print(\"Max value per column:\\n\", X_train.max())\n",
    "print(\"Min value per column:\\n\", X_train.min())"
   ]
  },
  {
   "cell_type": "markdown",
   "id": "a1d48933-82ae-416c-b2b9-8d68d58364e7",
   "metadata": {},
   "source": [
    "## AutoEncoder"
   ]
  },
  {
   "cell_type": "code",
   "execution_count": 19,
   "id": "ad5db609-5ee1-4184-a796-949390e13f68",
   "metadata": {},
   "outputs": [
    {
     "name": "stdout",
     "output_type": "stream",
     "text": [
      "Model: \"model_1\"\n",
      "_________________________________________________________________\n",
      " Layer (type)                Output Shape              Param #   \n",
      "=================================================================\n",
      " input_2 (InputLayer)        [(None, 8)]               0         \n",
      "                                                                 \n",
      " dense_4 (Dense)             (None, 32)                288       \n",
      "                                                                 \n",
      " dense_5 (Dense)             (None, 16)                528       \n",
      "                                                                 \n",
      " dense_6 (Dense)             (None, 32)                544       \n",
      "                                                                 \n",
      " dense_7 (Dense)             (None, 8)                 264       \n",
      "                                                                 \n",
      "=================================================================\n",
      "Total params: 1,624\n",
      "Trainable params: 1,624\n",
      "Non-trainable params: 0\n",
      "_________________________________________________________________\n"
     ]
    }
   ],
   "source": [
    "# Get input shape\n",
    "input_dim = X_train.shape[1]\n",
    "\n",
    "# Define Input\n",
    "input_layer = Input(shape=(input_dim,))\n",
    "\n",
    "# Encoder\n",
    "encoded = Dense(32, activation='relu', activity_regularizer=regularizers.l1(1e-5))(input_layer)\n",
    "encoded = Dense(16, activation='relu')(encoded)\n",
    "\n",
    "# Decoder\n",
    "decoded = Dense(32, activation='relu')(encoded)\n",
    "output_layer = Dense(input_dim, activation='sigmoid')(decoded)\n",
    "\n",
    "# Build Model\n",
    "autoencoder = Model(inputs=input_layer, outputs=output_layer)\n",
    "autoencoder.compile(optimizer='adam', loss='mse')\n",
    "\n",
    "# Model Summary\n",
    "autoencoder.summary()"
   ]
  },
  {
   "cell_type": "code",
   "execution_count": 20,
   "id": "c61665c4-ce0a-43b0-8fbe-4eafe404bf47",
   "metadata": {},
   "outputs": [],
   "source": [
    "# Early Stopping\n",
    "early_stop = EarlyStopping(monitor='val_loss', patience=5, restore_best_weights=True)"
   ]
  },
  {
   "cell_type": "code",
   "execution_count": 21,
   "id": "53073b1b-afbd-4513-b133-dde4d0fe13cb",
   "metadata": {},
   "outputs": [
    {
     "name": "stdout",
     "output_type": "stream",
     "text": [
      "Epoch 1/100\n",
      "312676/312676 [==============================] - 798s 3ms/step - loss: 2.6519e-04 - val_loss: 3.0752e-05\n",
      "Epoch 2/100\n",
      "312676/312676 [==============================] - 778s 2ms/step - loss: 2.3344e-05 - val_loss: 1.5280e-05\n",
      "Epoch 3/100\n",
      "312676/312676 [==============================] - 772s 2ms/step - loss: 1.6013e-05 - val_loss: 1.8217e-05\n",
      "Epoch 4/100\n",
      "312676/312676 [==============================] - 763s 2ms/step - loss: 1.4742e-05 - val_loss: 1.2207e-05\n",
      "Epoch 5/100\n",
      "312676/312676 [==============================] - 761s 2ms/step - loss: 1.5221e-05 - val_loss: 1.2949e-05\n",
      "Epoch 6/100\n",
      "312676/312676 [==============================] - 763s 2ms/step - loss: 1.6268e-05 - val_loss: 1.7852e-05\n",
      "Epoch 7/100\n",
      "312676/312676 [==============================] - 769s 2ms/step - loss: 1.9573e-05 - val_loss: 2.1154e-05\n",
      "Epoch 8/100\n",
      "312676/312676 [==============================] - 785s 3ms/step - loss: 2.0574e-05 - val_loss: 1.2968e-05\n",
      "Epoch 9/100\n",
      "312676/312676 [==============================] - 804s 3ms/step - loss: 1.7929e-05 - val_loss: 1.5122e-05\n",
      "CPU times: total: 2h 43min 3s\n",
      "Wall time: 1h 56min 36s\n"
     ]
    }
   ],
   "source": [
    "%%time\n",
    "\n",
    "# Train the model\n",
    "history = autoencoder.fit(\n",
    "    X_train, X_train,\n",
    "    epochs=100,\n",
    "    batch_size=64,\n",
    "    validation_split=0.2,\n",
    "    shuffle=True,\n",
    "    callbacks=[early_stop]\n",
    ")"
   ]
  },
  {
   "cell_type": "markdown",
   "id": "774509ea-21fe-4c38-b335-9c8d2074c505",
   "metadata": {},
   "source": [
    "**Evaluation**:"
   ]
  },
  {
   "cell_type": "code",
   "execution_count": 22,
   "id": "b1b0c012-97c8-4b08-99b0-0cab587639dd",
   "metadata": {},
   "outputs": [
    {
     "name": "stdout",
     "output_type": "stream",
     "text": [
      "471337/471337 [==============================] - 420s 891us/step\n"
     ]
    }
   ],
   "source": [
    "X_test_pred = autoencoder.predict(X_test)\n",
    "mse = np.mean(np.power(X_test - X_test_pred, 2), axis=1)"
   ]
  },
  {
   "cell_type": "code",
   "execution_count": 27,
   "id": "9f95bfba-796b-42d8-95a3-91772bb3dd27",
   "metadata": {},
   "outputs": [],
   "source": [
    "threshold = np.percentile(mse[y_test == 0], 99.5)"
   ]
  },
  {
   "cell_type": "code",
   "execution_count": 28,
   "id": "1ab935fb-04e2-4682-8680-70ead9665424",
   "metadata": {},
   "outputs": [],
   "source": [
    "y_pred = (mse > threshold).astype(int)"
   ]
  },
  {
   "cell_type": "code",
   "execution_count": 29,
   "id": "b9012ce4-50d5-4923-a655-b5074a538214",
   "metadata": {},
   "outputs": [
    {
     "name": "stdout",
     "output_type": "stream",
     "text": [
      "[[15007289    75351]\n",
      " [     133        8]]\n",
      "              precision    recall  f1-score   support\n",
      "\n",
      "           0       1.00      1.00      1.00  15082640\n",
      "           1       0.00      0.06      0.00       141\n",
      "\n",
      "    accuracy                           0.99  15082781\n",
      "   macro avg       0.50      0.53      0.50  15082781\n",
      "weighted avg       1.00      0.99      1.00  15082781\n",
      "\n"
     ]
    }
   ],
   "source": [
    "print(confusion_matrix(y_test, y_pred))\n",
    "print(classification_report(y_test, y_pred))"
   ]
  },
  {
   "cell_type": "code",
   "execution_count": null,
   "id": "088acdf3-5893-44f3-9be6-81a3961f4d4b",
   "metadata": {},
   "outputs": [],
   "source": []
  }
 ],
 "metadata": {
  "kernelspec": {
   "display_name": "Python 3 (ipykernel)",
   "language": "python",
   "name": "python3"
  },
  "language_info": {
   "codemirror_mode": {
    "name": "ipython",
    "version": 3
   },
   "file_extension": ".py",
   "mimetype": "text/x-python",
   "name": "python",
   "nbconvert_exporter": "python",
   "pygments_lexer": "ipython3",
   "version": "3.10.0"
  }
 },
 "nbformat": 4,
 "nbformat_minor": 5
}
