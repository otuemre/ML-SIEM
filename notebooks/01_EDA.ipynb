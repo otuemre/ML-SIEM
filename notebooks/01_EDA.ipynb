{
 "cells": [
  {
   "cell_type": "markdown",
   "id": "05b0141f-b491-442c-8417-b18ce69bb2c5",
   "metadata": {},
   "source": [
    "# 01_EDA – Exploratory Data Analysis on Login Event Data\n",
    "\n",
    "This notebook performs exploratory data analysis (EDA) on the RBA login dataset to understand user login behaviors, identify key patterns, and prepare the data for anomaly detection using machine learning.\n",
    "\n",
    "### Objectives:\n",
    "- Inspect dataset structure and types\n",
    "- Analyze login distributions by country, time, and user behavior\n",
    "- Visualize geo-based and temporal login trends\n",
    "- Identify potential indicators of malicious activity (e.g., rare locations, odd login hours)\n",
    "- Guide feature engineering for downstream ML models"
   ]
  },
  {
   "cell_type": "code",
   "execution_count": null,
   "id": "f65aa4f6-2298-468d-a68a-fd06257339c2",
   "metadata": {},
   "outputs": [],
   "source": []
  }
 ],
 "metadata": {
  "kernelspec": {
   "display_name": "Python 3 (ipykernel)",
   "language": "python",
   "name": "python3"
  },
  "language_info": {
   "codemirror_mode": {
    "name": "ipython",
    "version": 3
   },
   "file_extension": ".py",
   "mimetype": "text/x-python",
   "name": "python",
   "nbconvert_exporter": "python",
   "pygments_lexer": "ipython3",
   "version": "3.10.0"
  }
 },
 "nbformat": 4,
 "nbformat_minor": 5
}
