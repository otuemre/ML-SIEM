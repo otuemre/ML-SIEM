{
 "cells": [
  {
   "cell_type": "markdown",
   "id": "05b0141f-b491-442c-8417-b18ce69bb2c5",
   "metadata": {},
   "source": [
    "# 01_EDA – Exploratory Data Analysis on Login Event Data\n",
    "\n",
    "This notebook performs exploratory data analysis (EDA) on the RBA login dataset to understand user login behaviors, identify key patterns, and prepare the data for anomaly detection using machine learning.\n",
    "\n",
    "### Objectives:\n",
    "- Inspect dataset structure and types\n",
    "- Analyze login distributions by country, time, and user behavior\n",
    "- Visualize geo-based and temporal login trends\n",
    "- Identify potential indicators of malicious activity (e.g., rare locations, odd login hours)\n",
    "- Guide feature engineering for downstream ML models"
   ]
  },
  {
   "cell_type": "markdown",
   "id": "dedfc986-6432-4c9b-9fc6-2ee5236cbaa0",
   "metadata": {},
   "source": [
    "**Imports**:"
   ]
  },
  {
   "cell_type": "code",
   "execution_count": 2,
   "id": "5af3fa12-beb9-427b-bd44-e15438c7c713",
   "metadata": {},
   "outputs": [],
   "source": [
    "# Standart Imports\n",
    "import dask.dataframe as dd\n",
    "import pandas as pd\n",
    "import numpy as np\n",
    "\n",
    "# Visualization\n",
    "import matplotlib.pyplot as plt\n",
    "import seaborn as sns"
   ]
  },
  {
   "cell_type": "markdown",
   "id": "4dc7e6b7-df0e-4138-869d-eb670c943684",
   "metadata": {},
   "source": [
    "**Load the Dataset**:"
   ]
  },
  {
   "cell_type": "code",
   "execution_count": 4,
   "id": "6a02c972-7384-4a3a-8872-51c804ac92ce",
   "metadata": {},
   "outputs": [
    {
     "data": {
      "text/html": [
       "<div>\n",
       "<style scoped>\n",
       "    .dataframe tbody tr th:only-of-type {\n",
       "        vertical-align: middle;\n",
       "    }\n",
       "\n",
       "    .dataframe tbody tr th {\n",
       "        vertical-align: top;\n",
       "    }\n",
       "\n",
       "    .dataframe thead th {\n",
       "        text-align: right;\n",
       "    }\n",
       "</style>\n",
       "<table border=\"1\" class=\"dataframe\">\n",
       "  <thead>\n",
       "    <tr style=\"text-align: right;\">\n",
       "      <th></th>\n",
       "      <th>index</th>\n",
       "      <th>Login Timestamp</th>\n",
       "      <th>User ID</th>\n",
       "      <th>Round-Trip Time [ms]</th>\n",
       "      <th>IP Address</th>\n",
       "      <th>Country</th>\n",
       "      <th>Region</th>\n",
       "      <th>City</th>\n",
       "      <th>ASN</th>\n",
       "      <th>User Agent String</th>\n",
       "      <th>Browser Name and Version</th>\n",
       "      <th>OS Name and Version</th>\n",
       "      <th>Device Type</th>\n",
       "      <th>Login Successful</th>\n",
       "      <th>Is Attack IP</th>\n",
       "      <th>Is Account Takeover</th>\n",
       "    </tr>\n",
       "  </thead>\n",
       "  <tbody>\n",
       "    <tr>\n",
       "      <th>0</th>\n",
       "      <td>0</td>\n",
       "      <td>2020-02-03 12:43:30.772</td>\n",
       "      <td>-4324475583306591935</td>\n",
       "      <td>NaN</td>\n",
       "      <td>10.0.65.171</td>\n",
       "      <td>NO</td>\n",
       "      <td>-</td>\n",
       "      <td>-</td>\n",
       "      <td>29695</td>\n",
       "      <td>Mozilla/5.0  (iPhone; CPU iPhone OS 13_4 like ...</td>\n",
       "      <td>Firefox 20.0.0.1618</td>\n",
       "      <td>iOS 13.4</td>\n",
       "      <td>mobile</td>\n",
       "      <td>False</td>\n",
       "      <td>False</td>\n",
       "      <td>False</td>\n",
       "    </tr>\n",
       "    <tr>\n",
       "      <th>1</th>\n",
       "      <td>1</td>\n",
       "      <td>2020-02-03 12:43:43.549</td>\n",
       "      <td>-4324475583306591935</td>\n",
       "      <td>NaN</td>\n",
       "      <td>194.87.207.6</td>\n",
       "      <td>AU</td>\n",
       "      <td>-</td>\n",
       "      <td>-</td>\n",
       "      <td>60117</td>\n",
       "      <td>Mozilla/5.0  (Linux; Android 4.1; Galaxy Nexus...</td>\n",
       "      <td>Chrome Mobile 46.0.2490</td>\n",
       "      <td>Android 4.1</td>\n",
       "      <td>mobile</td>\n",
       "      <td>False</td>\n",
       "      <td>False</td>\n",
       "      <td>False</td>\n",
       "    </tr>\n",
       "    <tr>\n",
       "      <th>2</th>\n",
       "      <td>2</td>\n",
       "      <td>2020-02-03 12:43:55.873</td>\n",
       "      <td>-3284137479262433373</td>\n",
       "      <td>NaN</td>\n",
       "      <td>81.167.144.58</td>\n",
       "      <td>NO</td>\n",
       "      <td>Vestland</td>\n",
       "      <td>Urangsvag</td>\n",
       "      <td>29695</td>\n",
       "      <td>Mozilla/5.0  (iPad; CPU OS 7_1 like Mac OS X) ...</td>\n",
       "      <td>Android 2.3.3.2672</td>\n",
       "      <td>iOS 7.1</td>\n",
       "      <td>mobile</td>\n",
       "      <td>True</td>\n",
       "      <td>False</td>\n",
       "      <td>False</td>\n",
       "    </tr>\n",
       "    <tr>\n",
       "      <th>3</th>\n",
       "      <td>3</td>\n",
       "      <td>2020-02-03 12:43:56.180</td>\n",
       "      <td>-4324475583306591935</td>\n",
       "      <td>NaN</td>\n",
       "      <td>170.39.78.152</td>\n",
       "      <td>US</td>\n",
       "      <td>-</td>\n",
       "      <td>-</td>\n",
       "      <td>393398</td>\n",
       "      <td>Mozilla/5.0  (Linux; Android 4.1; Galaxy Nexus...</td>\n",
       "      <td>Chrome Mobile WebView 85.0.4183</td>\n",
       "      <td>Android 4.1</td>\n",
       "      <td>mobile</td>\n",
       "      <td>False</td>\n",
       "      <td>False</td>\n",
       "      <td>False</td>\n",
       "    </tr>\n",
       "    <tr>\n",
       "      <th>4</th>\n",
       "      <td>4</td>\n",
       "      <td>2020-02-03 12:43:59.396</td>\n",
       "      <td>-4618854071942621186</td>\n",
       "      <td>NaN</td>\n",
       "      <td>10.0.0.47</td>\n",
       "      <td>US</td>\n",
       "      <td>Virginia</td>\n",
       "      <td>Ashburn</td>\n",
       "      <td>398986</td>\n",
       "      <td>Mozilla/5.0  (Linux; U; Android 2.2) Build/NMA...</td>\n",
       "      <td>Chrome Mobile WebView 85.0.4183</td>\n",
       "      <td>Android 2.2</td>\n",
       "      <td>mobile</td>\n",
       "      <td>False</td>\n",
       "      <td>True</td>\n",
       "      <td>False</td>\n",
       "    </tr>\n",
       "  </tbody>\n",
       "</table>\n",
       "</div>"
      ],
      "text/plain": [
       "   index          Login Timestamp              User ID  Round-Trip Time [ms]  \\\n",
       "0      0  2020-02-03 12:43:30.772 -4324475583306591935                   NaN   \n",
       "1      1  2020-02-03 12:43:43.549 -4324475583306591935                   NaN   \n",
       "2      2  2020-02-03 12:43:55.873 -3284137479262433373                   NaN   \n",
       "3      3  2020-02-03 12:43:56.180 -4324475583306591935                   NaN   \n",
       "4      4  2020-02-03 12:43:59.396 -4618854071942621186                   NaN   \n",
       "\n",
       "      IP Address Country    Region       City     ASN  \\\n",
       "0    10.0.65.171      NO         -          -   29695   \n",
       "1   194.87.207.6      AU         -          -   60117   \n",
       "2  81.167.144.58      NO  Vestland  Urangsvag   29695   \n",
       "3  170.39.78.152      US         -          -  393398   \n",
       "4      10.0.0.47      US  Virginia    Ashburn  398986   \n",
       "\n",
       "                                   User Agent String  \\\n",
       "0  Mozilla/5.0  (iPhone; CPU iPhone OS 13_4 like ...   \n",
       "1  Mozilla/5.0  (Linux; Android 4.1; Galaxy Nexus...   \n",
       "2  Mozilla/5.0  (iPad; CPU OS 7_1 like Mac OS X) ...   \n",
       "3  Mozilla/5.0  (Linux; Android 4.1; Galaxy Nexus...   \n",
       "4  Mozilla/5.0  (Linux; U; Android 2.2) Build/NMA...   \n",
       "\n",
       "          Browser Name and Version OS Name and Version Device Type  \\\n",
       "0              Firefox 20.0.0.1618            iOS 13.4      mobile   \n",
       "1          Chrome Mobile 46.0.2490         Android 4.1      mobile   \n",
       "2               Android 2.3.3.2672             iOS 7.1      mobile   \n",
       "3  Chrome Mobile WebView 85.0.4183         Android 4.1      mobile   \n",
       "4  Chrome Mobile WebView 85.0.4183         Android 2.2      mobile   \n",
       "\n",
       "   Login Successful  Is Attack IP  Is Account Takeover  \n",
       "0             False         False                False  \n",
       "1             False         False                False  \n",
       "2              True         False                False  \n",
       "3             False         False                False  \n",
       "4             False          True                False  "
      ]
     },
     "execution_count": 4,
     "metadata": {},
     "output_type": "execute_result"
    }
   ],
   "source": [
    "df = dd.read_csv('../data/rba-dataset.csv')\n",
    "df.head()"
   ]
  },
  {
   "cell_type": "markdown",
   "id": "d13604b9-215c-448b-a42d-a72ba9de31af",
   "metadata": {},
   "source": [
    "**Basic EDA**:"
   ]
  },
  {
   "cell_type": "code",
   "execution_count": 16,
   "id": "bc378bf0-4bc3-460c-93c7-78347459caaa",
   "metadata": {},
   "outputs": [
    {
     "data": {
      "text/plain": [
       "0    Mozilla/5.0  (iPhone; CPU iPhone OS 13_4 like ...\n",
       "0    Mozilla/5.0 (Macintosh; Intel Mac OS X 10_14_6...\n",
       "0    Mozilla/5.0  (iPhone; CPU iPhone OS 11_2_6 lik...\n",
       "0    Mozilla/5.0  (Linux; Android 4.1; Galaxy Nexus...\n",
       "0    Mozilla/5.0  (iPad; CPU OS 7_1 like Mac OS X) ...\n",
       "                           ...                        \n",
       "0    Mozilla/5.0  (iPhone; CPU iPhone OS 13_4 like ...\n",
       "0    Mozilla/5.0 (iPod; CPU iPhone OS 6_1_6 like Ma...\n",
       "0    Mozilla/5.0  (iPhone; CPU iPhone OS 13_4 like ...\n",
       "0         AwarioSmartBot/1.0  (en-us) variation/294821\n",
       "0    Mozilla/5.0  (iPhone; CPU iPhone OS 11_2_6 lik...\n",
       "Name: User Agent String, Length: 141, dtype: string"
      ]
     },
     "execution_count": 16,
     "metadata": {},
     "output_type": "execute_result"
    }
   ],
   "source": [
    "df.loc[0][\"User Agent String\"].compute()"
   ]
  },
  {
   "cell_type": "code",
   "execution_count": 5,
   "id": "422a797f-811f-4783-99b3-8cae813b4a69",
   "metadata": {},
   "outputs": [
    {
     "name": "stdout",
     "output_type": "stream",
     "text": [
      "<class 'dask.dataframe.dask_expr.DataFrame'>\n",
      "Columns: 16 entries, index to Is Account Takeover\n",
      "dtypes: bool(3), float64(1), int64(3), string(9)"
     ]
    }
   ],
   "source": [
    "df.info()"
   ]
  },
  {
   "cell_type": "code",
   "execution_count": 19,
   "id": "5fc25e5b-0a9a-43df-b9e5-037b99c4d682",
   "metadata": {},
   "outputs": [
    {
     "data": {
      "text/html": [
       "<div>\n",
       "<style scoped>\n",
       "    .dataframe tbody tr th:only-of-type {\n",
       "        vertical-align: middle;\n",
       "    }\n",
       "\n",
       "    .dataframe tbody tr th {\n",
       "        vertical-align: top;\n",
       "    }\n",
       "\n",
       "    .dataframe thead th {\n",
       "        text-align: right;\n",
       "    }\n",
       "</style>\n",
       "<table border=\"1\" class=\"dataframe\">\n",
       "  <thead>\n",
       "    <tr style=\"text-align: right;\">\n",
       "      <th></th>\n",
       "      <th>index</th>\n",
       "      <th>User ID</th>\n",
       "      <th>Round-Trip Time [ms]</th>\n",
       "      <th>ASN</th>\n",
       "    </tr>\n",
       "  </thead>\n",
       "  <tbody>\n",
       "    <tr>\n",
       "      <th>count</th>\n",
       "      <td>3.126926e+07</td>\n",
       "      <td>3.126926e+07</td>\n",
       "      <td>1.275935e+06</td>\n",
       "      <td>3.126926e+07</td>\n",
       "    </tr>\n",
       "    <tr>\n",
       "      <th>mean</th>\n",
       "      <td>1.563463e+07</td>\n",
       "      <td>-2.689563e+11</td>\n",
       "      <td>6.639332e+02</td>\n",
       "      <td>1.621215e+05</td>\n",
       "    </tr>\n",
       "    <tr>\n",
       "      <th>std</th>\n",
       "      <td>9.026659e+06</td>\n",
       "      <td>4.514276e+18</td>\n",
       "      <td>1.116125e+03</td>\n",
       "      <td>1.719185e+05</td>\n",
       "    </tr>\n",
       "    <tr>\n",
       "      <th>min</th>\n",
       "      <td>0.000000e+00</td>\n",
       "      <td>-9.223371e+18</td>\n",
       "      <td>8.000000e+00</td>\n",
       "      <td>1.200000e+01</td>\n",
       "    </tr>\n",
       "    <tr>\n",
       "      <th>25%</th>\n",
       "      <td>7.814304e+06</td>\n",
       "      <td>-4.324476e+18</td>\n",
       "      <td>4.740000e+02</td>\n",
       "      <td>2.969500e+04</td>\n",
       "    </tr>\n",
       "    <tr>\n",
       "      <th>50%</th>\n",
       "      <td>1.558211e+07</td>\n",
       "      <td>-4.324476e+18</td>\n",
       "      <td>5.440000e+02</td>\n",
       "      <td>2.071740e+05</td>\n",
       "    </tr>\n",
       "    <tr>\n",
       "      <th>75%</th>\n",
       "      <td>2.344399e+07</td>\n",
       "      <td>2.293924e+18</td>\n",
       "      <td>6.970000e+02</td>\n",
       "      <td>3.933980e+05</td>\n",
       "    </tr>\n",
       "    <tr>\n",
       "      <th>max</th>\n",
       "      <td>3.126926e+07</td>\n",
       "      <td>9.223359e+18</td>\n",
       "      <td>2.234570e+05</td>\n",
       "      <td>5.077270e+05</td>\n",
       "    </tr>\n",
       "  </tbody>\n",
       "</table>\n",
       "</div>"
      ],
      "text/plain": [
       "              index       User ID  Round-Trip Time [ms]           ASN\n",
       "count  3.126926e+07  3.126926e+07          1.275935e+06  3.126926e+07\n",
       "mean   1.563463e+07 -2.689563e+11          6.639332e+02  1.621215e+05\n",
       "std    9.026659e+06  4.514276e+18          1.116125e+03  1.719185e+05\n",
       "min    0.000000e+00 -9.223371e+18          8.000000e+00  1.200000e+01\n",
       "25%    7.814304e+06 -4.324476e+18          4.740000e+02  2.969500e+04\n",
       "50%    1.558211e+07 -4.324476e+18          5.440000e+02  2.071740e+05\n",
       "75%    2.344399e+07  2.293924e+18          6.970000e+02  3.933980e+05\n",
       "max    3.126926e+07  9.223359e+18          2.234570e+05  5.077270e+05"
      ]
     },
     "execution_count": 19,
     "metadata": {},
     "output_type": "execute_result"
    }
   ],
   "source": [
    "df.describe().compute()"
   ]
  },
  {
   "cell_type": "code",
   "execution_count": 7,
   "id": "29c1ae91-7443-4475-ac1f-d3c1569d861b",
   "metadata": {},
   "outputs": [
    {
     "data": {
      "text/plain": [
       "Index(['index', 'Login Timestamp', 'User ID', 'Round-Trip Time [ms]',\n",
       "       'IP Address', 'Country', 'Region', 'City', 'ASN', 'User Agent String',\n",
       "       'Browser Name and Version', 'OS Name and Version', 'Device Type',\n",
       "       'Login Successful', 'Is Attack IP', 'Is Account Takeover'],\n",
       "      dtype='object')"
      ]
     },
     "execution_count": 7,
     "metadata": {},
     "output_type": "execute_result"
    }
   ],
   "source": [
    "df.columns"
   ]
  },
  {
   "cell_type": "code",
   "execution_count": 6,
   "id": "d9fa6ae0-a322-4888-af90-08b8a533714e",
   "metadata": {},
   "outputs": [
    {
     "data": {
      "text/plain": [
       "index                                 int64\n",
       "Login Timestamp             string[pyarrow]\n",
       "User ID                               int64\n",
       "Round-Trip Time [ms]                float64\n",
       "IP Address                  string[pyarrow]\n",
       "Country                     string[pyarrow]\n",
       "Region                      string[pyarrow]\n",
       "City                        string[pyarrow]\n",
       "ASN                                   int64\n",
       "User Agent String           string[pyarrow]\n",
       "Browser Name and Version    string[pyarrow]\n",
       "OS Name and Version         string[pyarrow]\n",
       "Device Type                 string[pyarrow]\n",
       "Login Successful                       bool\n",
       "Is Attack IP                           bool\n",
       "Is Account Takeover                    bool\n",
       "dtype: object"
      ]
     },
     "execution_count": 6,
     "metadata": {},
     "output_type": "execute_result"
    }
   ],
   "source": [
    "df.dtypes"
   ]
  },
  {
   "cell_type": "code",
   "execution_count": 12,
   "id": "199392d5-e937-4548-9066-dc6cf87f4b83",
   "metadata": {},
   "outputs": [
    {
     "data": {
      "text/plain": [
       "index                              0\n",
       "Login Timestamp                    0\n",
       "User ID                            0\n",
       "Round-Trip Time [ms]        29993329\n",
       "IP Address                         0\n",
       "Country                            0\n",
       "Region                         47409\n",
       "City                            8590\n",
       "ASN                                0\n",
       "User Agent String                  0\n",
       "Browser Name and Version           0\n",
       "OS Name and Version                0\n",
       "Device Type                     1526\n",
       "Login Successful                   0\n",
       "Is Attack IP                       0\n",
       "Is Account Takeover                0\n",
       "dtype: int64"
      ]
     },
     "execution_count": 12,
     "metadata": {},
     "output_type": "execute_result"
    }
   ],
   "source": [
    "# Check NaN\n",
    "df.isna().sum().compute()"
   ]
  },
  {
   "cell_type": "code",
   "execution_count": 13,
   "id": "d9dcdc8e-8e35-4a7a-afdb-70daf17a2a7c",
   "metadata": {},
   "outputs": [
    {
     "data": {
      "text/plain": [
       "31269264"
      ]
     },
     "execution_count": 13,
     "metadata": {},
     "output_type": "execute_result"
    }
   ],
   "source": [
    "# Length of the full dataset\n",
    "len(df)"
   ]
  },
  {
   "cell_type": "code",
   "execution_count": 17,
   "id": "dff517a1-4128-4771-a170-2fc9a86611e1",
   "metadata": {},
   "outputs": [
    {
     "data": {
      "text/plain": [
       "count    4.304857e+06\n",
       "mean     7.263717e+00\n",
       "std      6.760161e+03\n",
       "min      1.000000e+00\n",
       "25%      1.000000e+00\n",
       "50%      2.000000e+00\n",
       "75%      4.000000e+00\n",
       "max      1.402590e+07\n",
       "Name: count, dtype: float64"
      ]
     },
     "execution_count": 17,
     "metadata": {},
     "output_type": "execute_result"
    }
   ],
   "source": [
    "# Check the value count of User ID\n",
    "df[\"User ID\"].value_counts().compute().describe()"
   ]
  },
  {
   "cell_type": "markdown",
   "id": "665220bc-20ab-44d4-b331-c2578d1b38b6",
   "metadata": {},
   "source": [
    "In the next steps, I will clean and transform the dataset based on early observations:\n",
    "\n",
    "* `User ID` will be kept as there are approximently 7 rows for each user.\n",
    "* `Round-Trip Time [ms]` contains too many missing values (over 95%) and will be dropped.\n",
    "* `Region` and `City` are partially missing and less useful compared to `Country`, which I’ll retain as the primary geolocation feature.\n",
    "* `User Agent String` will be dropped since I already have separate columns for browser, OS, and device type.\n",
    "* I may extract major versions from browser or OS strings later if needed, but for now I’ll keep them as-is.\n",
    "* `Is Attack IP` will be kept to help label or validate suspicious activity.\n",
    "* Finally, I’ll drop the `index` column as it doesn’t serve any purpose.\n",
    "\n",
    "For time-based analysis, I will extract only the hour from the `Login Timestamp`. Using year, month, or day likely won’t add meaningful patterns, while minute or second would be overly granular and introduce noise. Hour-level granularity should be sufficient to identify suspicious login times."
   ]
  }
 ],
 "metadata": {
  "kernelspec": {
   "display_name": "Python 3 (ipykernel)",
   "language": "python",
   "name": "python3"
  },
  "language_info": {
   "codemirror_mode": {
    "name": "ipython",
    "version": 3
   },
   "file_extension": ".py",
   "mimetype": "text/x-python",
   "name": "python",
   "nbconvert_exporter": "python",
   "pygments_lexer": "ipython3",
   "version": "3.10.0"
  }
 },
 "nbformat": 4,
 "nbformat_minor": 5
}
